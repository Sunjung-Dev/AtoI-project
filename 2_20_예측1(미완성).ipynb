{
  "nbformat": 4,
  "nbformat_minor": 0,
  "metadata": {
    "colab": {
      "name": "2/20 예측1(미완성)",
      "provenance": [],
      "collapsed_sections": [],
      "authorship_tag": "ABX9TyMcPHRmAKGNRn7hgMxfusH4",
      "include_colab_link": true
    },
    "kernelspec": {
      "name": "python3",
      "display_name": "Python 3"
    }
  },
  "cells": [
    {
      "cell_type": "markdown",
      "metadata": {
        "id": "view-in-github",
        "colab_type": "text"
      },
      "source": [
        "<a href=\"https://colab.research.google.com/github/Sunjung-Dev/AtoI-project/blob/main/2_20_%EC%98%88%EC%B8%A11(%EB%AF%B8%EC%99%84%EC%84%B1).ipynb\" target=\"_parent\"><img src=\"https://colab.research.google.com/assets/colab-badge.svg\" alt=\"Open In Colab\"/></a>"
      ]
    },
    {
      "cell_type": "code",
      "metadata": {
        "colab": {
          "base_uri": "https://localhost:8080/"
        },
        "id": "EuysR2iAi7kj",
        "outputId": "60514187-f8da-4ff0-be45-26019cf235e6"
      },
      "source": [
        "pip install finance-datareader"
      ],
      "execution_count": null,
      "outputs": [
        {
          "output_type": "stream",
          "text": [
            "Collecting finance-datareader\n",
            "  Downloading https://files.pythonhosted.org/packages/ed/b5/bab9072610a2721b37b07cbf9e01aa761c8da1fd82c43016f3ff14fd0d62/finance_datareader-0.9.20-py3-none-any.whl\n",
            "Requirement already satisfied: tqdm in /usr/local/lib/python3.6/dist-packages (from finance-datareader) (4.41.1)\n",
            "Collecting requests-file\n",
            "  Downloading https://files.pythonhosted.org/packages/77/86/cdb5e8eaed90796aa83a6d9f75cfbd37af553c47a291cd47bc410ef9bdb2/requests_file-1.5.1-py2.py3-none-any.whl\n",
            "Requirement already satisfied: requests>=2.3.0 in /usr/local/lib/python3.6/dist-packages (from finance-datareader) (2.23.0)\n",
            "Requirement already satisfied: pandas>=0.19.2 in /usr/local/lib/python3.6/dist-packages (from finance-datareader) (1.1.5)\n",
            "Requirement already satisfied: lxml in /usr/local/lib/python3.6/dist-packages (from finance-datareader) (4.2.6)\n",
            "Requirement already satisfied: six in /usr/local/lib/python3.6/dist-packages (from requests-file->finance-datareader) (1.15.0)\n",
            "Requirement already satisfied: chardet<4,>=3.0.2 in /usr/local/lib/python3.6/dist-packages (from requests>=2.3.0->finance-datareader) (3.0.4)\n",
            "Requirement already satisfied: urllib3!=1.25.0,!=1.25.1,<1.26,>=1.21.1 in /usr/local/lib/python3.6/dist-packages (from requests>=2.3.0->finance-datareader) (1.24.3)\n",
            "Requirement already satisfied: idna<3,>=2.5 in /usr/local/lib/python3.6/dist-packages (from requests>=2.3.0->finance-datareader) (2.10)\n",
            "Requirement already satisfied: certifi>=2017.4.17 in /usr/local/lib/python3.6/dist-packages (from requests>=2.3.0->finance-datareader) (2020.12.5)\n",
            "Requirement already satisfied: pytz>=2017.2 in /usr/local/lib/python3.6/dist-packages (from pandas>=0.19.2->finance-datareader) (2018.9)\n",
            "Requirement already satisfied: numpy>=1.15.4 in /usr/local/lib/python3.6/dist-packages (from pandas>=0.19.2->finance-datareader) (1.19.5)\n",
            "Requirement already satisfied: python-dateutil>=2.7.3 in /usr/local/lib/python3.6/dist-packages (from pandas>=0.19.2->finance-datareader) (2.8.1)\n",
            "Installing collected packages: requests-file, finance-datareader\n",
            "Successfully installed finance-datareader-0.9.20 requests-file-1.5.1\n"
          ],
          "name": "stdout"
        }
      ]
    },
    {
      "cell_type": "code",
      "metadata": {
        "colab": {
          "base_uri": "https://localhost:8080/"
        },
        "id": "0M-j3o0Hi-Ai",
        "outputId": "ed3711cf-f7c0-46dd-caab-1cbada4bf0eb"
      },
      "source": [
        "pip install -U finance-datareader"
      ],
      "execution_count": null,
      "outputs": [
        {
          "output_type": "stream",
          "text": [
            "Requirement already up-to-date: finance-datareader in /usr/local/lib/python3.6/dist-packages (0.9.20)\n",
            "Requirement already satisfied, skipping upgrade: requests>=2.3.0 in /usr/local/lib/python3.6/dist-packages (from finance-datareader) (2.23.0)\n",
            "Requirement already satisfied, skipping upgrade: pandas>=0.19.2 in /usr/local/lib/python3.6/dist-packages (from finance-datareader) (1.1.5)\n",
            "Requirement already satisfied, skipping upgrade: tqdm in /usr/local/lib/python3.6/dist-packages (from finance-datareader) (4.41.1)\n",
            "Requirement already satisfied, skipping upgrade: requests-file in /usr/local/lib/python3.6/dist-packages (from finance-datareader) (1.5.1)\n",
            "Requirement already satisfied, skipping upgrade: lxml in /usr/local/lib/python3.6/dist-packages (from finance-datareader) (4.2.6)\n",
            "Requirement already satisfied, skipping upgrade: urllib3!=1.25.0,!=1.25.1,<1.26,>=1.21.1 in /usr/local/lib/python3.6/dist-packages (from requests>=2.3.0->finance-datareader) (1.24.3)\n",
            "Requirement already satisfied, skipping upgrade: certifi>=2017.4.17 in /usr/local/lib/python3.6/dist-packages (from requests>=2.3.0->finance-datareader) (2020.12.5)\n",
            "Requirement already satisfied, skipping upgrade: idna<3,>=2.5 in /usr/local/lib/python3.6/dist-packages (from requests>=2.3.0->finance-datareader) (2.10)\n",
            "Requirement already satisfied, skipping upgrade: chardet<4,>=3.0.2 in /usr/local/lib/python3.6/dist-packages (from requests>=2.3.0->finance-datareader) (3.0.4)\n",
            "Requirement already satisfied, skipping upgrade: numpy>=1.15.4 in /usr/local/lib/python3.6/dist-packages (from pandas>=0.19.2->finance-datareader) (1.19.5)\n",
            "Requirement already satisfied, skipping upgrade: python-dateutil>=2.7.3 in /usr/local/lib/python3.6/dist-packages (from pandas>=0.19.2->finance-datareader) (2.8.1)\n",
            "Requirement already satisfied, skipping upgrade: pytz>=2017.2 in /usr/local/lib/python3.6/dist-packages (from pandas>=0.19.2->finance-datareader) (2018.9)\n",
            "Requirement already satisfied, skipping upgrade: six in /usr/local/lib/python3.6/dist-packages (from requests-file->finance-datareader) (1.15.0)\n"
          ],
          "name": "stdout"
        }
      ]
    },
    {
      "cell_type": "code",
      "metadata": {
        "colab": {
          "base_uri": "https://localhost:8080/",
          "height": 450
        },
        "id": "CejuogvPjA2I",
        "outputId": "f48c5f61-7c8a-437a-e782-7da5da2eabfc"
      },
      "source": [
        "import FinanceDataReader as fdr \r\n",
        "df = fdr.DataReader(symbol='005930', start='2020-02-19') # 삼성전자, 2020.02.19~현재\r\n",
        "df"
      ],
      "execution_count": null,
      "outputs": [
        {
          "output_type": "execute_result",
          "data": {
            "text/html": [
              "<div>\n",
              "<style scoped>\n",
              "    .dataframe tbody tr th:only-of-type {\n",
              "        vertical-align: middle;\n",
              "    }\n",
              "\n",
              "    .dataframe tbody tr th {\n",
              "        vertical-align: top;\n",
              "    }\n",
              "\n",
              "    .dataframe thead th {\n",
              "        text-align: right;\n",
              "    }\n",
              "</style>\n",
              "<table border=\"1\" class=\"dataframe\">\n",
              "  <thead>\n",
              "    <tr style=\"text-align: right;\">\n",
              "      <th></th>\n",
              "      <th>Open</th>\n",
              "      <th>High</th>\n",
              "      <th>Low</th>\n",
              "      <th>Close</th>\n",
              "      <th>Volume</th>\n",
              "      <th>Change</th>\n",
              "    </tr>\n",
              "    <tr>\n",
              "      <th>Date</th>\n",
              "      <th></th>\n",
              "      <th></th>\n",
              "      <th></th>\n",
              "      <th></th>\n",
              "      <th></th>\n",
              "      <th></th>\n",
              "    </tr>\n",
              "  </thead>\n",
              "  <tbody>\n",
              "    <tr>\n",
              "      <th>2020-02-19</th>\n",
              "      <td>59800</td>\n",
              "      <td>60400</td>\n",
              "      <td>59400</td>\n",
              "      <td>60200</td>\n",
              "      <td>12951496</td>\n",
              "      <td>0.006689</td>\n",
              "    </tr>\n",
              "    <tr>\n",
              "      <th>2020-02-20</th>\n",
              "      <td>60700</td>\n",
              "      <td>61300</td>\n",
              "      <td>59600</td>\n",
              "      <td>60000</td>\n",
              "      <td>14591924</td>\n",
              "      <td>-0.003322</td>\n",
              "    </tr>\n",
              "    <tr>\n",
              "      <th>2020-02-21</th>\n",
              "      <td>58800</td>\n",
              "      <td>59800</td>\n",
              "      <td>58500</td>\n",
              "      <td>59200</td>\n",
              "      <td>13777393</td>\n",
              "      <td>-0.013333</td>\n",
              "    </tr>\n",
              "    <tr>\n",
              "      <th>2020-02-24</th>\n",
              "      <td>57400</td>\n",
              "      <td>58100</td>\n",
              "      <td>56800</td>\n",
              "      <td>56800</td>\n",
              "      <td>25627537</td>\n",
              "      <td>-0.040541</td>\n",
              "    </tr>\n",
              "    <tr>\n",
              "      <th>2020-02-25</th>\n",
              "      <td>56200</td>\n",
              "      <td>58000</td>\n",
              "      <td>56200</td>\n",
              "      <td>57900</td>\n",
              "      <td>23885408</td>\n",
              "      <td>0.019366</td>\n",
              "    </tr>\n",
              "    <tr>\n",
              "      <th>...</th>\n",
              "      <td>...</td>\n",
              "      <td>...</td>\n",
              "      <td>...</td>\n",
              "      <td>...</td>\n",
              "      <td>...</td>\n",
              "      <td>...</td>\n",
              "    </tr>\n",
              "    <tr>\n",
              "      <th>2021-02-15</th>\n",
              "      <td>83800</td>\n",
              "      <td>84500</td>\n",
              "      <td>83300</td>\n",
              "      <td>84200</td>\n",
              "      <td>23529706</td>\n",
              "      <td>0.031863</td>\n",
              "    </tr>\n",
              "    <tr>\n",
              "      <th>2021-02-16</th>\n",
              "      <td>84500</td>\n",
              "      <td>86000</td>\n",
              "      <td>84200</td>\n",
              "      <td>84900</td>\n",
              "      <td>20483100</td>\n",
              "      <td>0.008314</td>\n",
              "    </tr>\n",
              "    <tr>\n",
              "      <th>2021-02-17</th>\n",
              "      <td>83900</td>\n",
              "      <td>84200</td>\n",
              "      <td>83000</td>\n",
              "      <td>83200</td>\n",
              "      <td>18307735</td>\n",
              "      <td>-0.020024</td>\n",
              "    </tr>\n",
              "    <tr>\n",
              "      <th>2021-02-18</th>\n",
              "      <td>83200</td>\n",
              "      <td>83600</td>\n",
              "      <td>82100</td>\n",
              "      <td>82100</td>\n",
              "      <td>21327683</td>\n",
              "      <td>-0.013221</td>\n",
              "    </tr>\n",
              "    <tr>\n",
              "      <th>2021-02-19</th>\n",
              "      <td>82300</td>\n",
              "      <td>82800</td>\n",
              "      <td>81000</td>\n",
              "      <td>82600</td>\n",
              "      <td>25469274</td>\n",
              "      <td>0.006090</td>\n",
              "    </tr>\n",
              "  </tbody>\n",
              "</table>\n",
              "<p>249 rows × 6 columns</p>\n",
              "</div>"
            ],
            "text/plain": [
              "             Open   High    Low  Close    Volume    Change\n",
              "Date                                                      \n",
              "2020-02-19  59800  60400  59400  60200  12951496  0.006689\n",
              "2020-02-20  60700  61300  59600  60000  14591924 -0.003322\n",
              "2020-02-21  58800  59800  58500  59200  13777393 -0.013333\n",
              "2020-02-24  57400  58100  56800  56800  25627537 -0.040541\n",
              "2020-02-25  56200  58000  56200  57900  23885408  0.019366\n",
              "...           ...    ...    ...    ...       ...       ...\n",
              "2021-02-15  83800  84500  83300  84200  23529706  0.031863\n",
              "2021-02-16  84500  86000  84200  84900  20483100  0.008314\n",
              "2021-02-17  83900  84200  83000  83200  18307735 -0.020024\n",
              "2021-02-18  83200  83600  82100  82100  21327683 -0.013221\n",
              "2021-02-19  82300  82800  81000  82600  25469274  0.006090\n",
              "\n",
              "[249 rows x 6 columns]"
            ]
          },
          "metadata": {
            "tags": []
          },
          "execution_count": 3
        }
      ]
    },
    {
      "cell_type": "code",
      "metadata": {
        "colab": {
          "base_uri": "https://localhost:8080/",
          "height": 277
        },
        "id": "mghCLgtQjpgF",
        "outputId": "244e1356-7610-43ed-f9b8-8922061eb89a"
      },
      "source": [
        "df['Close'].plot();"
      ],
      "execution_count": null,
      "outputs": [
        {
          "output_type": "display_data",
          "data": {
            "image/png": "[encoded data removed]",
            "text/plain": [
              "<Figure size 432x288 with 1 Axes>"
            ]
          },
          "metadata": {
            "tags": [],
            "needs_background": "light"
          }
        }
      ]
    },
    {
      "cell_type": "code",
      "metadata": {
        "id": "jFNn2dY7j7MK"
      },
      "source": [
        "import numpy as np\r\n",
        "import pandas as pd\r\n",
        "import os"
      ],
      "execution_count": null,
      "outputs": []
    },
    {
      "cell_type": "code",
      "metadata": {
        "colab": {
          "base_uri": "https://localhost:8080/"
        },
        "id": "pV29cZHYm3iD",
        "outputId": "2841ad9c-5960-4dbe-a358-f0e990671442"
      },
      "source": [
        "import os\r\n",
        "import json\r\n",
        "from google.colab import drive\r\n",
        "drive.mount('/content/gdrive')"
      ],
      "execution_count": null,
      "outputs": [
        {
          "output_type": "stream",
          "text": [
            "Mounted at /content/gdrive\n"
          ],
          "name": "stdout"
        }
      ]
    },
    {
      "cell_type": "code",
      "metadata": {
        "id": "C1zMWtC5nOqj"
      },
      "source": [
        "base_dir = \"/content/gdrive/MyDrive\"\r\n",
        "file_nm = \"df.xlsx\" \r\n",
        "xlxs_dir = os.path.join(base_dir, file_nm) \r\n"
      ],
      "execution_count": null,
      "outputs": []
    },
    {
      "cell_type": "code",
      "metadata": {
        "id": "pPPfoFGOlw7D"
      },
      "source": [
        "#base_dir = \"C:/Users/sun17/Desktop\"\r\n",
        "#file_nm = \"df.xlsx\"\r\n",
        "#xlxs_dir = os.path.join(base_dir,file_nm)\r\n",
        "\r\n"
      ],
      "execution_count": null,
      "outputs": []
    },
    {
      "cell_type": "code",
      "metadata": {
        "id": "-9fR_OuEmI2z"
      },
      "source": [
        "df.to_excel(xlxs_dir, # directory and file name to write\r\n",
        "\r\n",
        "            sheet_name = 'Sheet1', \r\n",
        "\r\n",
        "            na_rep = 'NaN', \r\n",
        "\r\n",
        "            float_format = \"%.2f\", \r\n",
        "\r\n",
        "            header = True, \r\n",
        "\r\n",
        "            #columns = [\"group\", \"value_1\", \"value_2\"], # if header is False\r\n",
        "\r\n",
        "            index = True, \r\n",
        "\r\n",
        "            index_label = \"id\", \r\n",
        "\r\n",
        "            startrow = 1, \r\n",
        "\r\n",
        "            startcol = 1, \r\n",
        "\r\n",
        "            #engine = 'xlsxwriter', \r\n",
        "\r\n",
        "            freeze_panes = (2, 0)\r\n",
        "\r\n",
        "            ) \r\n",
        "\r\n",
        "\r\n"
      ],
      "execution_count": null,
      "outputs": []
    },
    {
      "cell_type": "code",
      "metadata": {
        "colab": {
          "base_uri": "https://localhost:8080/"
        },
        "id": "oEEdetBjgytu",
        "outputId": "325786af-62e9-4ba2-8d01-8a7e0ac47785"
      },
      "source": [
        "cd /content/gdrive/MyDrive"
      ],
      "execution_count": null,
      "outputs": [
        {
          "output_type": "stream",
          "text": [
            "/content/gdrive/MyDrive\n"
          ],
          "name": "stdout"
        }
      ]
    },
    {
      "cell_type": "code",
      "metadata": {
        "id": "qpwu7ckNgm1F"
      },
      "source": [
        "import pandas as pd \r\n",
        "\r\n",
        "xlsx.to_excel('df.xlsx',index=True)\r\n",
        "\r\n",
        "\r\n",
        "\r\n",
        "\r\n",
        "\r\n",
        "\r\n",
        "\r\n"
      ],
      "execution_count": null,
      "outputs": []
    },
    {
      "cell_type": "code",
      "metadata": {
        "colab": {
          "base_uri": "https://localhost:8080/"
        },
        "id": "83jNJ41giCmH",
        "outputId": "a5e1e7f1-733f-4970-fd91-caa1e9d6d586"
      },
      "source": [
        "Data= pd.read_excel('df.xlsx')\r\n",
        "print(Data)\r\n",
        "\r\n"
      ],
      "execution_count": null,
      "outputs": [
        {
          "output_type": "stream",
          "text": [
            "     Unnamed: 0  Unnamed: 0.1  Unnamed: 0.1.1  ... Unnamed: 5 Unnamed: 6 Unnamed: 7\n",
            "0             0             0             NaN  ...      Close     Volume     Change\n",
            "1             1             1             NaN  ...      60200   12951496       0.01\n",
            "2             2             2             NaN  ...      60000   14591924          0\n",
            "3             3             3             NaN  ...      59200   13777393      -0.01\n",
            "4             4             4             NaN  ...      56800   25627537      -0.04\n",
            "..          ...           ...             ...  ...        ...        ...        ...\n",
            "245         245           245             NaN  ...      84200   23529706       0.03\n",
            "246         246           246             NaN  ...      84900   20483100       0.01\n",
            "247         247           247             NaN  ...      83200   18307735      -0.02\n",
            "248         248           248             NaN  ...      82100   21327683      -0.01\n",
            "249         249           249             NaN  ...      82600   25469274       0.01\n",
            "\n",
            "[250 rows x 10 columns]\n"
          ],
          "name": "stdout"
        }
      ]
    },
    {
      "cell_type": "code",
      "metadata": {
        "id": "MMaDyVaynLg-"
      },
      "source": [
        "xlsx.to_csv('df',index=False)\r\n",
        "\r\n"
      ],
      "execution_count": null,
      "outputs": []
    },
    {
      "cell_type": "code",
      "metadata": {
        "id": "0TOH2s2gpd6A"
      },
      "source": [
        " import pandas as pd\r\n",
        " dataframe = pd.read_csv(\"df\", delimiter=',', header=None, skiprows=1, names=['Open', 'High', 'Low', 'Close', 'Volume', 'Change'])"
      ],
      "execution_count": null,
      "outputs": []
    },
    {
      "cell_type": "code",
      "metadata": {
        "colab": {
          "base_uri": "https://localhost:8080/"
        },
        "id": "BsqtHlx3navD",
        "outputId": "28c78958-c066-49a7-b44f-ebf3f6daa7ae"
      },
      "source": [
        "print(dataframe)"
      ],
      "execution_count": null,
      "outputs": [
        {
          "output_type": "stream",
          "text": [
            "                              Open   High    Low  Close    Volume  Change\n",
            "0   NaN id                    Open   High    Low  Close    Volume  Change\n",
            "1   NaN 2020-02-19 00:00:00  59800  60400  59400  60200  12951496    0.01\n",
            "2   NaN 2020-02-20 00:00:00  60700  61300  59600  60000  14591924       0\n",
            "3   NaN 2020-02-21 00:00:00  58800  59800  58500  59200  13777393   -0.01\n",
            "4   NaN 2020-02-24 00:00:00  57400  58100  56800  56800  25627537   -0.04\n",
            "...                            ...    ...    ...    ...       ...     ...\n",
            "245 NaN 2021-02-15 00:00:00  83800  84500  83300  84200  23529706    0.03\n",
            "246 NaN 2021-02-16 00:00:00  84500  86000  84200  84900  20483100    0.01\n",
            "247 NaN 2021-02-17 00:00:00  83900  84200  83000  83200  18307735   -0.02\n",
            "248 NaN 2021-02-18 00:00:00  83200  83600  82100  82100  21327683   -0.01\n",
            "249 NaN 2021-02-19 00:00:00  82300  82800  81000  82600  25469274    0.01\n",
            "\n",
            "[250 rows x 6 columns]\n"
          ],
          "name": "stdout"
        }
      ]
    },
    {
      "cell_type": "code",
      "metadata": {
        "colab": {
          "base_uri": "https://localhost:8080/"
        },
        "id": "RZZltrSBwaah",
        "outputId": "8c1dc32d-2ed9-4c8e-fde5-606fbd73a058"
      },
      "source": [
        "dataframe.columns"
      ],
      "execution_count": null,
      "outputs": [
        {
          "output_type": "execute_result",
          "data": {
            "text/plain": [
              "Index(['Open', 'High', 'Low', 'Close', 'Volume', 'Change'], dtype='object')"
            ]
          },
          "metadata": {
            "tags": []
          },
          "execution_count": 130
        }
      ]
    },
    {
      "cell_type": "code",
      "metadata": {
        "colab": {
          "base_uri": "https://localhost:8080/"
        },
        "id": "3K65krfTs8r6",
        "outputId": "0e0db185-267e-414c-8fdd-b198b7a300ed"
      },
      "source": [
        "#for column in df:\r\n",
        "#  print(column)"
      ],
      "execution_count": null,
      "outputs": [
        {
          "output_type": "stream",
          "text": [
            "Open\n",
            "High\n",
            "Low\n",
            "Close\n",
            "Volume\n",
            "Change\n"
          ],
          "name": "stdout"
        }
      ]
    },
    {
      "cell_type": "code",
      "metadata": {
        "id": "c3_6OBhvwxBH"
      },
      "source": [
        "TEST_SIZE = 100"
      ],
      "execution_count": null,
      "outputs": []
    },
    {
      "cell_type": "code",
      "metadata": {
        "id": "gQE0gP2zkzSn"
      },
      "source": [
        "train = Data[:-TEST_SIZE]\r\n",
        "test = Data[-TEST_SIZE:]"
      ],
      "execution_count": null,
      "outputs": []
    },
    {
      "cell_type": "code",
      "metadata": {
        "id": "Sw4e9O2GFDUR"
      },
      "source": [
        "def make_dataset(data, label, window_size=10):\r\n",
        "    feature_list = []\r\n",
        "    label_list = []\r\n",
        "    for i in range(len(data) - window_size):\r\n",
        "        feature_list.append(np.array(data.iloc[i:i+window_size]))\r\n",
        "        label_list.append(np.array(label.iloc[i+window_size]))\r\n",
        "    return np.array(feature_list), np.array(label_list)"
      ],
      "execution_count": null,
      "outputs": []
    },
    {
      "cell_type": "code",
      "metadata": {
        "id": "gDg-CJs2x6Tb"
      },
      "source": [
        "df.columns = ['Open', 'High', 'Low', 'Close', 'Volume', 'Change']"
      ],
      "execution_count": null,
      "outputs": []
    },
    {
      "cell_type": "code",
      "metadata": {
        "colab": {
          "base_uri": "https://localhost:8080/"
        },
        "id": "2CXr0E6ikJun",
        "outputId": "f04d73ff-5354-40da-8d8d-cdf3808de2ee"
      },
      "source": [
        "#feature_cols = ['Open', 'High', 'Low', 'Volume']\r\n",
        "label_cols = ['Close']\r\n",
        "\r\n",
        "train_feature = train[['Open', 'High', 'Low', 'Volume']]\r\n",
        "train_label = train[label_cols]\r\n",
        "\r\n",
        "# train dataset\r\n",
        "train_feature, train_label = make_dataset(train_feature, train_label, 20)\r\n",
        "\r\n",
        "# train, validation set 생성\r\n",
        "from sklearn.model_selection import train_test_split\r\n",
        "x_train, x_valid, y_train, y_valid = train_test_split(train_feature, train_label, test_size=0.2)\r\n",
        "\r\n",
        "x_train.shape, x_valid.shape\r\n",
        "#((143, 20, 4), (36, 20, 4))\r\n",
        "\r\n"
      ],
      "execution_count": null,
      "outputs": [
        {
          "output_type": "execute_result",
          "data": {
            "text/plain": [
              "((143, 20, 4), (36, 20, 4))"
            ]
          },
          "metadata": {
            "tags": []
          },
          "execution_count": 242
        }
      ]
    },
    {
      "cell_type": "code",
      "metadata": {
        "colab": {
          "base_uri": "https://localhost:8080/"
        },
        "id": "94brU8_c0_4M",
        "outputId": "cdca793f-d5f0-45a5-d247-af9aba5774d4"
      },
      "source": [
        "test_feature = test[['Open', 'High', 'Low', 'Volume']]\r\n",
        "test_label = test[label_cols]\r\n",
        "\r\n",
        "test_feature.shape, test_label.shape\r\n",
        "\r\n",
        "# test dataset (실제 예측 해볼 데이터)\r\n",
        "test_feature, test_label = make_dataset(test_feature, test_label, 20)\r\n",
        "test_feature.shape, test_label.shape\r\n",
        "#((30, 20, 4), (30, 1))"
      ],
      "execution_count": null,
      "outputs": [
        {
          "output_type": "execute_result",
          "data": {
            "text/plain": [
              "((30, 20, 4), (30, 1))"
            ]
          },
          "metadata": {
            "tags": []
          },
          "execution_count": 243
        }
      ]
    },
    {
      "cell_type": "code",
      "metadata": {
        "id": "-iNUtmy_1I1L"
      },
      "source": [
        "from keras.models import Sequential\r\n",
        "from keras.layers import Dense\r\n",
        "from keras.callbacks import EarlyStopping, ModelCheckpoint\r\n",
        "from keras.layers import LSTM\r\n",
        "\r\n",
        "model = Sequential()\r\n",
        "model.add(LSTM(10, \r\n",
        "               input_shape=(train_feature.shape[1], train_feature.shape[2]), \r\n",
        "               activation='relu', \r\n",
        "               return_sequences=False)\r\n",
        "          )\r\n",
        "\r\n",
        "model.add(Dense(1))"
      ],
      "execution_count": null,
      "outputs": []
    },
    {
      "cell_type": "code",
      "metadata": {
        "colab": {
          "base_uri": "https://localhost:8080/"
        },
        "id": "j6bTahvz2S2r",
        "outputId": "5ca419ef-a665-41b5-d2d3-38b2ebf79a17"
      },
      "source": [
        "import os\r\n",
        "\r\n",
        "model.compile(loss='mean_squared_error', optimizer='adam')\r\n",
        "early_stop = EarlyStopping(monitor='val_loss', patience=5)\r\n",
        "\r\n",
        "model_path = 'model'\r\n",
        "filename = os.path.join(model_path, 'tmp_checkpoint.h5')\r\n",
        "checkpoint = ModelCheckpoint(filename, monitor='val_loss', verbose=1, save_best_only=True, mode='auto')\r\n",
        "\r\n",
        "history = model.fit(x_train, y_train, \r\n",
        "                                    epochs=200, \r\n",
        "                                    batch_size=16,\r\n",
        "                                    validation_data=(x_valid, y_valid), \r\n",
        "                                    callbacks=[early_stop, checkpoint])"
      ],
      "execution_count": null,
      "outputs": [
        {
          "output_type": "stream",
          "text": [
            "Epoch 1/200\n",
            "9/9 [==============================] - 1s 31ms/step - loss: 32205224345.6000 - val_loss: 9033005056.0000\n",
            "\n",
            "Epoch 00001: val_loss improved from inf to 9033005056.00000, saving model to model/tmp_checkpoint.h5\n",
            "Epoch 2/200\n",
            "9/9 [==============================] - 0s 9ms/step - loss: 9396302745.6000 - val_loss: 3057811968.0000\n",
            "\n",
            "Epoch 00002: val_loss improved from 9033005056.00000 to 3057811968.00000, saving model to model/tmp_checkpoint.h5\n",
            "Epoch 3/200\n",
            "9/9 [==============================] - 0s 10ms/step - loss: 4663914137.6000 - val_loss: 2858639360.0000\n",
            "\n",
            "Epoch 00003: val_loss improved from 3057811968.00000 to 2858639360.00000, saving model to model/tmp_checkpoint.h5\n",
            "Epoch 4/200\n",
            "9/9 [==============================] - 0s 27ms/step - loss: 2261507532.8000 - val_loss: 1089854848.0000\n",
            "\n",
            "Epoch 00004: val_loss improved from 2858639360.00000 to 1089854848.00000, saving model to model/tmp_checkpoint.h5\n",
            "Epoch 5/200\n",
            "9/9 [==============================] - 0s 10ms/step - loss: 1585305664.0000 - val_loss: 936332928.0000\n",
            "\n",
            "Epoch 00005: val_loss improved from 1089854848.00000 to 936332928.00000, saving model to model/tmp_checkpoint.h5\n",
            "Epoch 6/200\n",
            "9/9 [==============================] - 0s 10ms/step - loss: 720608460.8000 - val_loss: 557102784.0000\n",
            "\n",
            "Epoch 00006: val_loss improved from 936332928.00000 to 557102784.00000, saving model to model/tmp_checkpoint.h5\n",
            "Epoch 7/200\n",
            "9/9 [==============================] - 0s 9ms/step - loss: 497883753.6000 - val_loss: 493173472.0000\n",
            "\n",
            "Epoch 00007: val_loss improved from 557102784.00000 to 493173472.00000, saving model to model/tmp_checkpoint.h5\n",
            "Epoch 8/200\n",
            "9/9 [==============================] - 0s 10ms/step - loss: 534051763.2000 - val_loss: 488242848.0000\n",
            "\n",
            "Epoch 00008: val_loss improved from 493173472.00000 to 488242848.00000, saving model to model/tmp_checkpoint.h5\n",
            "Epoch 9/200\n",
            "9/9 [==============================] - 0s 10ms/step - loss: 439678611.2000 - val_loss: 475380768.0000\n",
            "\n",
            "Epoch 00009: val_loss improved from 488242848.00000 to 475380768.00000, saving model to model/tmp_checkpoint.h5\n",
            "Epoch 10/200\n",
            "9/9 [==============================] - 0s 9ms/step - loss: 452058713.6000 - val_loss: 478729568.0000\n",
            "\n",
            "Epoch 00010: val_loss did not improve from 475380768.00000\n",
            "Epoch 11/200\n",
            "9/9 [==============================] - 0s 9ms/step - loss: 506490505.6000 - val_loss: 476021504.0000\n",
            "\n",
            "Epoch 00011: val_loss did not improve from 475380768.00000\n",
            "Epoch 12/200\n",
            "9/9 [==============================] - 0s 9ms/step - loss: 460772985.6000 - val_loss: 471118784.0000\n",
            "\n",
            "Epoch 00012: val_loss improved from 475380768.00000 to 471118784.00000, saving model to model/tmp_checkpoint.h5\n",
            "Epoch 13/200\n",
            "9/9 [==============================] - 0s 10ms/step - loss: 419284697.6000 - val_loss: 469881728.0000\n",
            "\n",
            "Epoch 00013: val_loss improved from 471118784.00000 to 469881728.00000, saving model to model/tmp_checkpoint.h5\n",
            "Epoch 14/200\n",
            "9/9 [==============================] - 0s 9ms/step - loss: 368558075.2000 - val_loss: 469120128.0000\n",
            "\n",
            "Epoch 00014: val_loss improved from 469881728.00000 to 469120128.00000, saving model to model/tmp_checkpoint.h5\n",
            "Epoch 15/200\n",
            "9/9 [==============================] - 0s 9ms/step - loss: 441835171.2000 - val_loss: 468567488.0000\n",
            "\n",
            "Epoch 00015: val_loss improved from 469120128.00000 to 468567488.00000, saving model to model/tmp_checkpoint.h5\n",
            "Epoch 16/200\n",
            "9/9 [==============================] - 0s 10ms/step - loss: 392282355.2000 - val_loss: 466245760.0000\n",
            "\n",
            "Epoch 00016: val_loss improved from 468567488.00000 to 466245760.00000, saving model to model/tmp_checkpoint.h5\n",
            "Epoch 17/200\n",
            "9/9 [==============================] - 0s 11ms/step - loss: 418717740.8000 - val_loss: 468357504.0000\n",
            "\n",
            "Epoch 00017: val_loss did not improve from 466245760.00000\n",
            "Epoch 18/200\n",
            "9/9 [==============================] - 0s 10ms/step - loss: 523504713.6000 - val_loss: 463655648.0000\n",
            "\n",
            "Epoch 00018: val_loss improved from 466245760.00000 to 463655648.00000, saving model to model/tmp_checkpoint.h5\n",
            "Epoch 19/200\n",
            "9/9 [==============================] - 0s 9ms/step - loss: 448279526.4000 - val_loss: 462990176.0000\n",
            "\n",
            "Epoch 00019: val_loss improved from 463655648.00000 to 462990176.00000, saving model to model/tmp_checkpoint.h5\n",
            "Epoch 20/200\n",
            "9/9 [==============================] - 0s 9ms/step - loss: 445772934.4000 - val_loss: 462196448.0000\n",
            "\n",
            "Epoch 00020: val_loss improved from 462990176.00000 to 462196448.00000, saving model to model/tmp_checkpoint.h5\n",
            "Epoch 21/200\n",
            "9/9 [==============================] - 0s 9ms/step - loss: 481036636.8000 - val_loss: 461560800.0000\n",
            "\n",
            "Epoch 00021: val_loss improved from 462196448.00000 to 461560800.00000, saving model to model/tmp_checkpoint.h5\n",
            "Epoch 22/200\n",
            "9/9 [==============================] - 0s 9ms/step - loss: 540379350.4000 - val_loss: 460191168.0000\n",
            "\n",
            "Epoch 00022: val_loss improved from 461560800.00000 to 460191168.00000, saving model to model/tmp_checkpoint.h5\n",
            "Epoch 23/200\n",
            "9/9 [==============================] - 0s 9ms/step - loss: 451099350.4000 - val_loss: 461354656.0000\n",
            "\n",
            "Epoch 00023: val_loss did not improve from 460191168.00000\n",
            "Epoch 24/200\n",
            "9/9 [==============================] - 0s 9ms/step - loss: 468237670.4000 - val_loss: 456410752.0000\n",
            "\n",
            "Epoch 00024: val_loss improved from 460191168.00000 to 456410752.00000, saving model to model/tmp_checkpoint.h5\n",
            "Epoch 25/200\n",
            "9/9 [==============================] - 0s 10ms/step - loss: 462556384.0000 - val_loss: 454223104.0000\n",
            "\n",
            "Epoch 00025: val_loss improved from 456410752.00000 to 454223104.00000, saving model to model/tmp_checkpoint.h5\n",
            "Epoch 26/200\n",
            "9/9 [==============================] - 0s 9ms/step - loss: 431718790.4000 - val_loss: 459804704.0000\n",
            "\n",
            "Epoch 00026: val_loss did not improve from 454223104.00000\n",
            "Epoch 27/200\n",
            "9/9 [==============================] - 0s 9ms/step - loss: 438691241.6000 - val_loss: 453151328.0000\n",
            "\n",
            "Epoch 00027: val_loss improved from 454223104.00000 to 453151328.00000, saving model to model/tmp_checkpoint.h5\n",
            "Epoch 28/200\n",
            "9/9 [==============================] - 0s 10ms/step - loss: 443070051.2000 - val_loss: 449904800.0000\n",
            "\n",
            "Epoch 00028: val_loss improved from 453151328.00000 to 449904800.00000, saving model to model/tmp_checkpoint.h5\n",
            "Epoch 29/200\n",
            "9/9 [==============================] - 0s 9ms/step - loss: 465846457.6000 - val_loss: 448860416.0000\n",
            "\n",
            "Epoch 00029: val_loss improved from 449904800.00000 to 448860416.00000, saving model to model/tmp_checkpoint.h5\n",
            "Epoch 30/200\n",
            "9/9 [==============================] - 0s 9ms/step - loss: 551926320.0000 - val_loss: 451284352.0000\n",
            "\n",
            "Epoch 00030: val_loss did not improve from 448860416.00000\n",
            "Epoch 31/200\n",
            "9/9 [==============================] - 0s 9ms/step - loss: 387119971.2000 - val_loss: 446889696.0000\n",
            "\n",
            "Epoch 00031: val_loss improved from 448860416.00000 to 446889696.00000, saving model to model/tmp_checkpoint.h5\n",
            "Epoch 32/200\n",
            "9/9 [==============================] - 0s 9ms/step - loss: 395356459.2000 - val_loss: 444736512.0000\n",
            "\n",
            "Epoch 00032: val_loss improved from 446889696.00000 to 444736512.00000, saving model to model/tmp_checkpoint.h5\n",
            "Epoch 33/200\n",
            "9/9 [==============================] - 0s 9ms/step - loss: 464809180.8000 - val_loss: 443588832.0000\n",
            "\n",
            "Epoch 00033: val_loss improved from 444736512.00000 to 443588832.00000, saving model to model/tmp_checkpoint.h5\n",
            "Epoch 34/200\n",
            "9/9 [==============================] - 0s 9ms/step - loss: 422879068.8000 - val_loss: 441148352.0000\n",
            "\n",
            "Epoch 00034: val_loss improved from 443588832.00000 to 441148352.00000, saving model to model/tmp_checkpoint.h5\n",
            "Epoch 35/200\n",
            "9/9 [==============================] - 0s 9ms/step - loss: 450903120.0000 - val_loss: 439104288.0000\n",
            "\n",
            "Epoch 00035: val_loss improved from 441148352.00000 to 439104288.00000, saving model to model/tmp_checkpoint.h5\n",
            "Epoch 36/200\n",
            "9/9 [==============================] - 0s 9ms/step - loss: 364099091.2000 - val_loss: 447920928.0000\n",
            "\n",
            "Epoch 00036: val_loss did not improve from 439104288.00000\n",
            "Epoch 37/200\n",
            "9/9 [==============================] - 0s 9ms/step - loss: 444705910.4000 - val_loss: 443150304.0000\n",
            "\n",
            "Epoch 00037: val_loss did not improve from 439104288.00000\n",
            "Epoch 38/200\n",
            "9/9 [==============================] - 0s 9ms/step - loss: 329149254.4000 - val_loss: 438014016.0000\n",
            "\n",
            "Epoch 00038: val_loss improved from 439104288.00000 to 438014016.00000, saving model to model/tmp_checkpoint.h5\n",
            "Epoch 39/200\n",
            "9/9 [==============================] - 0s 9ms/step - loss: 303270086.4000 - val_loss: 437049216.0000\n",
            "\n",
            "Epoch 00039: val_loss improved from 438014016.00000 to 437049216.00000, saving model to model/tmp_checkpoint.h5\n",
            "Epoch 40/200\n",
            "9/9 [==============================] - 0s 9ms/step - loss: 387678150.4000 - val_loss: 444063872.0000\n",
            "\n",
            "Epoch 00040: val_loss did not improve from 437049216.00000\n",
            "Epoch 41/200\n",
            "9/9 [==============================] - 0s 8ms/step - loss: 456912995.2000 - val_loss: 433258656.0000\n",
            "\n",
            "Epoch 00041: val_loss improved from 437049216.00000 to 433258656.00000, saving model to model/tmp_checkpoint.h5\n",
            "Epoch 42/200\n",
            "9/9 [==============================] - 0s 9ms/step - loss: 378836009.6000 - val_loss: 429046624.0000\n",
            "\n",
            "Epoch 00042: val_loss improved from 433258656.00000 to 429046624.00000, saving model to model/tmp_checkpoint.h5\n",
            "Epoch 43/200\n",
            "9/9 [==============================] - 0s 9ms/step - loss: 451085766.4000 - val_loss: 427554016.0000\n",
            "\n",
            "Epoch 00043: val_loss improved from 429046624.00000 to 427554016.00000, saving model to model/tmp_checkpoint.h5\n",
            "Epoch 44/200\n",
            "9/9 [==============================] - 0s 9ms/step - loss: 329689387.2000 - val_loss: 436911744.0000\n",
            "\n",
            "Epoch 00044: val_loss did not improve from 427554016.00000\n",
            "Epoch 45/200\n",
            "9/9 [==============================] - 0s 9ms/step - loss: 335344785.6000 - val_loss: 424153216.0000\n",
            "\n",
            "Epoch 00045: val_loss improved from 427554016.00000 to 424153216.00000, saving model to model/tmp_checkpoint.h5\n",
            "Epoch 46/200\n",
            "9/9 [==============================] - 0s 10ms/step - loss: 391017728.0000 - val_loss: 421648800.0000\n",
            "\n",
            "Epoch 00046: val_loss improved from 424153216.00000 to 421648800.00000, saving model to model/tmp_checkpoint.h5\n",
            "Epoch 47/200\n",
            "9/9 [==============================] - 0s 9ms/step - loss: 443619324.8000 - val_loss: 420990944.0000\n",
            "\n",
            "Epoch 00047: val_loss improved from 421648800.00000 to 420990944.00000, saving model to model/tmp_checkpoint.h5\n",
            "Epoch 48/200\n",
            "9/9 [==============================] - 0s 9ms/step - loss: 453878892.8000 - val_loss: 426653536.0000\n",
            "\n",
            "Epoch 00048: val_loss did not improve from 420990944.00000\n",
            "Epoch 49/200\n",
            "9/9 [==============================] - 0s 10ms/step - loss: 342714200.0000 - val_loss: 416978144.0000\n",
            "\n",
            "Epoch 00049: val_loss improved from 420990944.00000 to 416978144.00000, saving model to model/tmp_checkpoint.h5\n",
            "Epoch 50/200\n",
            "9/9 [==============================] - 0s 10ms/step - loss: 350706768.0000 - val_loss: 416445568.0000\n",
            "\n",
            "Epoch 00050: val_loss improved from 416978144.00000 to 416445568.00000, saving model to model/tmp_checkpoint.h5\n",
            "Epoch 51/200\n",
            "9/9 [==============================] - 0s 9ms/step - loss: 404417868.8000 - val_loss: 418356224.0000\n",
            "\n",
            "Epoch 00051: val_loss did not improve from 416445568.00000\n",
            "Epoch 52/200\n",
            "9/9 [==============================] - 0s 9ms/step - loss: 414016528.0000 - val_loss: 420616384.0000\n",
            "\n",
            "Epoch 00052: val_loss did not improve from 416445568.00000\n",
            "Epoch 53/200\n",
            "9/9 [==============================] - 0s 26ms/step - loss: 569574518.4000 - val_loss: 410967776.0000\n",
            "\n",
            "Epoch 00053: val_loss improved from 416445568.00000 to 410967776.00000, saving model to model/tmp_checkpoint.h5\n",
            "Epoch 54/200\n",
            "9/9 [==============================] - 0s 10ms/step - loss: 408122905.6000 - val_loss: 411103680.0000\n",
            "\n",
            "Epoch 00054: val_loss did not improve from 410967776.00000\n",
            "Epoch 55/200\n",
            "9/9 [==============================] - 0s 9ms/step - loss: 366404656.0000 - val_loss: 407195296.0000\n",
            "\n",
            "Epoch 00055: val_loss improved from 410967776.00000 to 407195296.00000, saving model to model/tmp_checkpoint.h5\n",
            "Epoch 56/200\n",
            "9/9 [==============================] - 0s 9ms/step - loss: 428641264.0000 - val_loss: 405671008.0000\n",
            "\n",
            "Epoch 00056: val_loss improved from 407195296.00000 to 405671008.00000, saving model to model/tmp_checkpoint.h5\n",
            "Epoch 57/200\n",
            "9/9 [==============================] - 0s 9ms/step - loss: 361306140.8000 - val_loss: 404418560.0000\n",
            "\n",
            "Epoch 00057: val_loss improved from 405671008.00000 to 404418560.00000, saving model to model/tmp_checkpoint.h5\n",
            "Epoch 58/200\n",
            "9/9 [==============================] - 0s 10ms/step - loss: 364092547.2000 - val_loss: 406982368.0000\n",
            "\n",
            "Epoch 00058: val_loss did not improve from 404418560.00000\n",
            "Epoch 59/200\n",
            "9/9 [==============================] - 0s 9ms/step - loss: 320963483.2000 - val_loss: 411154720.0000\n",
            "\n",
            "Epoch 00059: val_loss did not improve from 404418560.00000\n",
            "Epoch 60/200\n",
            "9/9 [==============================] - 0s 9ms/step - loss: 413678256.0000 - val_loss: 399449728.0000\n",
            "\n",
            "Epoch 00060: val_loss improved from 404418560.00000 to 399449728.00000, saving model to model/tmp_checkpoint.h5\n",
            "Epoch 61/200\n",
            "9/9 [==============================] - 0s 9ms/step - loss: 442837084.8000 - val_loss: 397969280.0000\n",
            "\n",
            "Epoch 00061: val_loss improved from 399449728.00000 to 397969280.00000, saving model to model/tmp_checkpoint.h5\n",
            "Epoch 62/200\n",
            "9/9 [==============================] - 0s 9ms/step - loss: 413350899.2000 - val_loss: 397723744.0000\n",
            "\n",
            "Epoch 00062: val_loss improved from 397969280.00000 to 397723744.00000, saving model to model/tmp_checkpoint.h5\n",
            "Epoch 63/200\n",
            "9/9 [==============================] - 0s 10ms/step - loss: 402906518.4000 - val_loss: 395494720.0000\n",
            "\n",
            "Epoch 00063: val_loss improved from 397723744.00000 to 395494720.00000, saving model to model/tmp_checkpoint.h5\n",
            "Epoch 64/200\n",
            "9/9 [==============================] - 0s 9ms/step - loss: 316953920.0000 - val_loss: 393859712.0000\n",
            "\n",
            "Epoch 00064: val_loss improved from 395494720.00000 to 393859712.00000, saving model to model/tmp_checkpoint.h5\n",
            "Epoch 65/200\n",
            "9/9 [==============================] - 0s 9ms/step - loss: 358392960.0000 - val_loss: 391958048.0000\n",
            "\n",
            "Epoch 00065: val_loss improved from 393859712.00000 to 391958048.00000, saving model to model/tmp_checkpoint.h5\n",
            "Epoch 66/200\n",
            "9/9 [==============================] - 0s 9ms/step - loss: 419865980.8000 - val_loss: 393380896.0000\n",
            "\n",
            "Epoch 00066: val_loss did not improve from 391958048.00000\n",
            "Epoch 67/200\n",
            "9/9 [==============================] - 0s 9ms/step - loss: 425037392.0000 - val_loss: 390542112.0000\n",
            "\n",
            "Epoch 00067: val_loss improved from 391958048.00000 to 390542112.00000, saving model to model/tmp_checkpoint.h5\n",
            "Epoch 68/200\n",
            "9/9 [==============================] - 0s 9ms/step - loss: 417469692.8000 - val_loss: 390327008.0000\n",
            "\n",
            "Epoch 00068: val_loss improved from 390542112.00000 to 390327008.00000, saving model to model/tmp_checkpoint.h5\n",
            "Epoch 69/200\n",
            "9/9 [==============================] - 0s 10ms/step - loss: 435661648.0000 - val_loss: 386116288.0000\n",
            "\n",
            "Epoch 00069: val_loss improved from 390327008.00000 to 386116288.00000, saving model to model/tmp_checkpoint.h5\n",
            "Epoch 70/200\n",
            "9/9 [==============================] - 0s 9ms/step - loss: 381787977.6000 - val_loss: 385558272.0000\n",
            "\n",
            "Epoch 00070: val_loss improved from 386116288.00000 to 385558272.00000, saving model to model/tmp_checkpoint.h5\n",
            "Epoch 71/200\n",
            "9/9 [==============================] - 0s 10ms/step - loss: 341683856.0000 - val_loss: 384725248.0000\n",
            "\n",
            "Epoch 00071: val_loss improved from 385558272.00000 to 384725248.00000, saving model to model/tmp_checkpoint.h5\n",
            "Epoch 72/200\n",
            "9/9 [==============================] - 0s 10ms/step - loss: 355937062.4000 - val_loss: 382040512.0000\n",
            "\n",
            "Epoch 00072: val_loss improved from 384725248.00000 to 382040512.00000, saving model to model/tmp_checkpoint.h5\n",
            "Epoch 73/200\n",
            "9/9 [==============================] - 0s 10ms/step - loss: 384793539.2000 - val_loss: 380462880.0000\n",
            "\n",
            "Epoch 00073: val_loss improved from 382040512.00000 to 380462880.00000, saving model to model/tmp_checkpoint.h5\n",
            "Epoch 74/200\n",
            "9/9 [==============================] - 0s 9ms/step - loss: 324416499.2000 - val_loss: 393295840.0000\n",
            "\n",
            "Epoch 00074: val_loss did not improve from 380462880.00000\n",
            "Epoch 75/200\n",
            "9/9 [==============================] - 0s 9ms/step - loss: 387105289.6000 - val_loss: 392562880.0000\n",
            "\n",
            "Epoch 00075: val_loss did not improve from 380462880.00000\n",
            "Epoch 76/200\n",
            "9/9 [==============================] - 0s 9ms/step - loss: 396363849.6000 - val_loss: 405222272.0000\n",
            "\n",
            "Epoch 00076: val_loss did not improve from 380462880.00000\n",
            "Epoch 77/200\n",
            "9/9 [==============================] - 0s 9ms/step - loss: 341362787.2000 - val_loss: 375263168.0000\n",
            "\n",
            "Epoch 00077: val_loss improved from 380462880.00000 to 375263168.00000, saving model to model/tmp_checkpoint.h5\n",
            "Epoch 78/200\n",
            "9/9 [==============================] - 0s 9ms/step - loss: 357147436.8000 - val_loss: 376432256.0000\n",
            "\n",
            "Epoch 00078: val_loss did not improve from 375263168.00000\n",
            "Epoch 79/200\n",
            "9/9 [==============================] - 0s 9ms/step - loss: 362661812.8000 - val_loss: 378795744.0000\n",
            "\n",
            "Epoch 00079: val_loss did not improve from 375263168.00000\n",
            "Epoch 80/200\n",
            "9/9 [==============================] - 0s 9ms/step - loss: 412405324.8000 - val_loss: 374248064.0000\n",
            "\n",
            "Epoch 00080: val_loss improved from 375263168.00000 to 374248064.00000, saving model to model/tmp_checkpoint.h5\n",
            "Epoch 81/200\n",
            "9/9 [==============================] - 0s 9ms/step - loss: 347103145.6000 - val_loss: 371061312.0000\n",
            "\n",
            "Epoch 00081: val_loss improved from 374248064.00000 to 371061312.00000, saving model to model/tmp_checkpoint.h5\n",
            "Epoch 82/200\n",
            "9/9 [==============================] - 0s 9ms/step - loss: 400250092.8000 - val_loss: 371858656.0000\n",
            "\n",
            "Epoch 00082: val_loss did not improve from 371061312.00000\n",
            "Epoch 83/200\n",
            "9/9 [==============================] - 0s 9ms/step - loss: 388369270.4000 - val_loss: 371895840.0000\n",
            "\n",
            "Epoch 00083: val_loss did not improve from 371061312.00000\n",
            "Epoch 84/200\n",
            "9/9 [==============================] - 0s 9ms/step - loss: 346240641.6000 - val_loss: 367998624.0000\n",
            "\n",
            "Epoch 00084: val_loss improved from 371061312.00000 to 367998624.00000, saving model to model/tmp_checkpoint.h5\n",
            "Epoch 85/200\n",
            "9/9 [==============================] - 0s 9ms/step - loss: 317629411.2000 - val_loss: 371319328.0000\n",
            "\n",
            "Epoch 00085: val_loss did not improve from 367998624.00000\n",
            "Epoch 86/200\n",
            "9/9 [==============================] - 0s 9ms/step - loss: 468599177.6000 - val_loss: 365587584.0000\n",
            "\n",
            "Epoch 00086: val_loss improved from 367998624.00000 to 365587584.00000, saving model to model/tmp_checkpoint.h5\n",
            "Epoch 87/200\n",
            "9/9 [==============================] - 0s 9ms/step - loss: 393419395.2000 - val_loss: 364688416.0000\n",
            "\n",
            "Epoch 00087: val_loss improved from 365587584.00000 to 364688416.00000, saving model to model/tmp_checkpoint.h5\n",
            "Epoch 88/200\n",
            "9/9 [==============================] - 0s 10ms/step - loss: 319954684.8000 - val_loss: 362021280.0000\n",
            "\n",
            "Epoch 00088: val_loss improved from 364688416.00000 to 362021280.00000, saving model to model/tmp_checkpoint.h5\n",
            "Epoch 89/200\n",
            "9/9 [==============================] - 0s 11ms/step - loss: 380020627.2000 - val_loss: 361564960.0000\n",
            "\n",
            "Epoch 00089: val_loss improved from 362021280.00000 to 361564960.00000, saving model to model/tmp_checkpoint.h5\n",
            "Epoch 90/200\n",
            "9/9 [==============================] - 0s 9ms/step - loss: 321990670.4000 - val_loss: 362559424.0000\n",
            "\n",
            "Epoch 00090: val_loss did not improve from 361564960.00000\n",
            "Epoch 91/200\n",
            "9/9 [==============================] - 0s 9ms/step - loss: 408364784.0000 - val_loss: 358144480.0000\n",
            "\n",
            "Epoch 00091: val_loss improved from 361564960.00000 to 358144480.00000, saving model to model/tmp_checkpoint.h5\n",
            "Epoch 92/200\n",
            "9/9 [==============================] - 0s 9ms/step - loss: 308437480.0000 - val_loss: 359380256.0000\n",
            "\n",
            "Epoch 00092: val_loss did not improve from 358144480.00000\n",
            "Epoch 93/200\n",
            "9/9 [==============================] - 0s 26ms/step - loss: 306460683.2000 - val_loss: 355890112.0000\n",
            "\n",
            "Epoch 00093: val_loss improved from 358144480.00000 to 355890112.00000, saving model to model/tmp_checkpoint.h5\n",
            "Epoch 94/200\n",
            "9/9 [==============================] - 0s 9ms/step - loss: 353572128.0000 - val_loss: 355042976.0000\n",
            "\n",
            "Epoch 00094: val_loss improved from 355890112.00000 to 355042976.00000, saving model to model/tmp_checkpoint.h5\n",
            "Epoch 95/200\n",
            "9/9 [==============================] - 0s 9ms/step - loss: 346958889.6000 - val_loss: 355247360.0000\n",
            "\n",
            "Epoch 00095: val_loss did not improve from 355042976.00000\n",
            "Epoch 96/200\n",
            "9/9 [==============================] - 0s 9ms/step - loss: 342397580.8000 - val_loss: 353867264.0000\n",
            "\n",
            "Epoch 00096: val_loss improved from 355042976.00000 to 353867264.00000, saving model to model/tmp_checkpoint.h5\n",
            "Epoch 97/200\n",
            "9/9 [==============================] - 0s 9ms/step - loss: 305401760.0000 - val_loss: 352065312.0000\n",
            "\n",
            "Epoch 00097: val_loss improved from 353867264.00000 to 352065312.00000, saving model to model/tmp_checkpoint.h5\n",
            "Epoch 98/200\n",
            "9/9 [==============================] - 0s 11ms/step - loss: 420255756.8000 - val_loss: 350928768.0000\n",
            "\n",
            "Epoch 00098: val_loss improved from 352065312.00000 to 350928768.00000, saving model to model/tmp_checkpoint.h5\n",
            "Epoch 99/200\n",
            "9/9 [==============================] - 0s 9ms/step - loss: 325649305.6000 - val_loss: 352385504.0000\n",
            "\n",
            "Epoch 00099: val_loss did not improve from 350928768.00000\n",
            "Epoch 100/200\n",
            "9/9 [==============================] - 0s 9ms/step - loss: 321426675.2000 - val_loss: 349947968.0000\n",
            "\n",
            "Epoch 00100: val_loss improved from 350928768.00000 to 349947968.00000, saving model to model/tmp_checkpoint.h5\n",
            "Epoch 101/200\n",
            "9/9 [==============================] - 0s 10ms/step - loss: 312121828.8000 - val_loss: 351120256.0000\n",
            "\n",
            "Epoch 00101: val_loss did not improve from 349947968.00000\n",
            "Epoch 102/200\n",
            "9/9 [==============================] - 0s 10ms/step - loss: 294554716.8000 - val_loss: 347585152.0000\n",
            "\n",
            "Epoch 00102: val_loss improved from 349947968.00000 to 347585152.00000, saving model to model/tmp_checkpoint.h5\n",
            "Epoch 103/200\n",
            "9/9 [==============================] - 0s 9ms/step - loss: 357762022.4000 - val_loss: 346021440.0000\n",
            "\n",
            "Epoch 00103: val_loss improved from 347585152.00000 to 346021440.00000, saving model to model/tmp_checkpoint.h5\n",
            "Epoch 104/200\n",
            "9/9 [==============================] - 0s 9ms/step - loss: 337154800.0000 - val_loss: 360918688.0000\n",
            "\n",
            "Epoch 00104: val_loss did not improve from 346021440.00000\n",
            "Epoch 105/200\n",
            "9/9 [==============================] - 0s 9ms/step - loss: 308882614.4000 - val_loss: 346307200.0000\n",
            "\n",
            "Epoch 00105: val_loss did not improve from 346021440.00000\n",
            "Epoch 106/200\n",
            "9/9 [==============================] - 0s 9ms/step - loss: 355791196.8000 - val_loss: 344632736.0000\n",
            "\n",
            "Epoch 00106: val_loss improved from 346021440.00000 to 344632736.00000, saving model to model/tmp_checkpoint.h5\n",
            "Epoch 107/200\n",
            "9/9 [==============================] - 0s 11ms/step - loss: 298906024.0000 - val_loss: 344480000.0000\n",
            "\n",
            "Epoch 00107: val_loss improved from 344632736.00000 to 344480000.00000, saving model to model/tmp_checkpoint.h5\n",
            "Epoch 108/200\n",
            "9/9 [==============================] - 0s 11ms/step - loss: 317739777.6000 - val_loss: 343166336.0000\n",
            "\n",
            "Epoch 00108: val_loss improved from 344480000.00000 to 343166336.00000, saving model to model/tmp_checkpoint.h5\n",
            "Epoch 109/200\n",
            "9/9 [==============================] - 0s 9ms/step - loss: 327274009.6000 - val_loss: 348031776.0000\n",
            "\n",
            "Epoch 00109: val_loss did not improve from 343166336.00000\n",
            "Epoch 110/200\n",
            "9/9 [==============================] - 0s 9ms/step - loss: 296475696.0000 - val_loss: 340033568.0000\n",
            "\n",
            "Epoch 00110: val_loss improved from 343166336.00000 to 340033568.00000, saving model to model/tmp_checkpoint.h5\n",
            "Epoch 111/200\n",
            "9/9 [==============================] - 0s 9ms/step - loss: 263706960.0000 - val_loss: 340363648.0000\n",
            "\n",
            "Epoch 00111: val_loss did not improve from 340033568.00000\n",
            "Epoch 112/200\n",
            "9/9 [==============================] - 0s 9ms/step - loss: 337428905.6000 - val_loss: 348771648.0000\n",
            "\n",
            "Epoch 00112: val_loss did not improve from 340033568.00000\n",
            "Epoch 113/200\n",
            "9/9 [==============================] - 0s 9ms/step - loss: 311104131.2000 - val_loss: 337516960.0000\n",
            "\n",
            "Epoch 00113: val_loss improved from 340033568.00000 to 337516960.00000, saving model to model/tmp_checkpoint.h5\n",
            "Epoch 114/200\n",
            "9/9 [==============================] - 0s 9ms/step - loss: 329717235.2000 - val_loss: 342920160.0000\n",
            "\n",
            "Epoch 00114: val_loss did not improve from 337516960.00000\n",
            "Epoch 115/200\n",
            "9/9 [==============================] - 0s 9ms/step - loss: 322729539.2000 - val_loss: 337492064.0000\n",
            "\n",
            "Epoch 00115: val_loss improved from 337516960.00000 to 337492064.00000, saving model to model/tmp_checkpoint.h5\n",
            "Epoch 116/200\n",
            "9/9 [==============================] - 0s 9ms/step - loss: 293229024.0000 - val_loss: 335207616.0000\n",
            "\n",
            "Epoch 00116: val_loss improved from 337492064.00000 to 335207616.00000, saving model to model/tmp_checkpoint.h5\n",
            "Epoch 117/200\n",
            "9/9 [==============================] - 0s 10ms/step - loss: 287264412.8000 - val_loss: 338512256.0000\n",
            "\n",
            "Epoch 00117: val_loss did not improve from 335207616.00000\n",
            "Epoch 118/200\n",
            "9/9 [==============================] - 0s 10ms/step - loss: 269109608.0000 - val_loss: 334696832.0000\n",
            "\n",
            "Epoch 00118: val_loss improved from 335207616.00000 to 334696832.00000, saving model to model/tmp_checkpoint.h5\n",
            "Epoch 119/200\n",
            "9/9 [==============================] - 0s 10ms/step - loss: 375481340.8000 - val_loss: 336367840.0000\n",
            "\n",
            "Epoch 00119: val_loss did not improve from 334696832.00000\n",
            "Epoch 120/200\n",
            "9/9 [==============================] - 0s 9ms/step - loss: 321808425.6000 - val_loss: 335719104.0000\n",
            "\n",
            "Epoch 00120: val_loss did not improve from 334696832.00000\n",
            "Epoch 121/200\n",
            "9/9 [==============================] - 0s 9ms/step - loss: 302244230.4000 - val_loss: 331841760.0000\n",
            "\n",
            "Epoch 00121: val_loss improved from 334696832.00000 to 331841760.00000, saving model to model/tmp_checkpoint.h5\n",
            "Epoch 122/200\n",
            "9/9 [==============================] - 0s 9ms/step - loss: 280480203.2000 - val_loss: 331087904.0000\n",
            "\n",
            "Epoch 00122: val_loss improved from 331841760.00000 to 331087904.00000, saving model to model/tmp_checkpoint.h5\n",
            "Epoch 123/200\n",
            "9/9 [==============================] - 0s 9ms/step - loss: 274477990.4000 - val_loss: 330632384.0000\n",
            "\n",
            "Epoch 00123: val_loss improved from 331087904.00000 to 330632384.00000, saving model to model/tmp_checkpoint.h5\n",
            "Epoch 124/200\n",
            "9/9 [==============================] - 0s 11ms/step - loss: 251850064.0000 - val_loss: 330505600.0000\n",
            "\n",
            "Epoch 00124: val_loss improved from 330632384.00000 to 330505600.00000, saving model to model/tmp_checkpoint.h5\n",
            "Epoch 125/200\n",
            "9/9 [==============================] - 0s 9ms/step - loss: 372346377.6000 - val_loss: 335981696.0000\n",
            "\n",
            "Epoch 00125: val_loss did not improve from 330505600.00000\n",
            "Epoch 126/200\n",
            "9/9 [==============================] - 0s 9ms/step - loss: 293590350.4000 - val_loss: 328850880.0000\n",
            "\n",
            "Epoch 00126: val_loss improved from 330505600.00000 to 328850880.00000, saving model to model/tmp_checkpoint.h5\n",
            "Epoch 127/200\n",
            "9/9 [==============================] - 0s 27ms/step - loss: 293674390.4000 - val_loss: 328295296.0000\n",
            "\n",
            "Epoch 00127: val_loss improved from 328850880.00000 to 328295296.00000, saving model to model/tmp_checkpoint.h5\n",
            "Epoch 128/200\n",
            "9/9 [==============================] - 0s 9ms/step - loss: 347714512.0000 - val_loss: 327871808.0000\n",
            "\n",
            "Epoch 00128: val_loss improved from 328295296.00000 to 327871808.00000, saving model to model/tmp_checkpoint.h5\n",
            "Epoch 129/200\n",
            "9/9 [==============================] - 0s 9ms/step - loss: 296734131.2000 - val_loss: 337508992.0000\n",
            "\n",
            "Epoch 00129: val_loss did not improve from 327871808.00000\n",
            "Epoch 130/200\n",
            "9/9 [==============================] - 0s 9ms/step - loss: 263934075.2000 - val_loss: 328299648.0000\n",
            "\n",
            "Epoch 00130: val_loss did not improve from 327871808.00000\n",
            "Epoch 131/200\n",
            "9/9 [==============================] - 0s 9ms/step - loss: 314008265.6000 - val_loss: 326056160.0000\n",
            "\n",
            "Epoch 00131: val_loss improved from 327871808.00000 to 326056160.00000, saving model to model/tmp_checkpoint.h5\n",
            "Epoch 132/200\n",
            "9/9 [==============================] - 0s 9ms/step - loss: 319433718.4000 - val_loss: 326546592.0000\n",
            "\n",
            "Epoch 00132: val_loss did not improve from 326056160.00000\n",
            "Epoch 133/200\n",
            "9/9 [==============================] - 0s 9ms/step - loss: 317091289.6000 - val_loss: 325304416.0000\n",
            "\n",
            "Epoch 00133: val_loss improved from 326056160.00000 to 325304416.00000, saving model to model/tmp_checkpoint.h5\n",
            "Epoch 134/200\n",
            "9/9 [==============================] - 0s 9ms/step - loss: 356885436.8000 - val_loss: 324445760.0000\n",
            "\n",
            "Epoch 00134: val_loss improved from 325304416.00000 to 324445760.00000, saving model to model/tmp_checkpoint.h5\n",
            "Epoch 135/200\n",
            "9/9 [==============================] - 0s 10ms/step - loss: 281503150.4000 - val_loss: 324706720.0000\n",
            "\n",
            "Epoch 00135: val_loss did not improve from 324445760.00000\n",
            "Epoch 136/200\n",
            "9/9 [==============================] - 0s 9ms/step - loss: 310234176.0000 - val_loss: 324887872.0000\n",
            "\n",
            "Epoch 00136: val_loss did not improve from 324445760.00000\n",
            "Epoch 137/200\n",
            "9/9 [==============================] - 0s 10ms/step - loss: 294596790.4000 - val_loss: 323100800.0000\n",
            "\n",
            "Epoch 00137: val_loss improved from 324445760.00000 to 323100800.00000, saving model to model/tmp_checkpoint.h5\n",
            "Epoch 138/200\n",
            "9/9 [==============================] - 0s 9ms/step - loss: 309886574.4000 - val_loss: 322584800.0000\n",
            "\n",
            "Epoch 00138: val_loss improved from 323100800.00000 to 322584800.00000, saving model to model/tmp_checkpoint.h5\n",
            "Epoch 139/200\n",
            "9/9 [==============================] - 0s 9ms/step - loss: 266929272.0000 - val_loss: 322851040.0000\n",
            "\n",
            "Epoch 00139: val_loss did not improve from 322584800.00000\n",
            "Epoch 140/200\n",
            "9/9 [==============================] - 0s 9ms/step - loss: 367919430.4000 - val_loss: 339473184.0000\n",
            "\n",
            "Epoch 00140: val_loss did not improve from 322584800.00000\n",
            "Epoch 141/200\n",
            "9/9 [==============================] - 0s 9ms/step - loss: 327392432.0000 - val_loss: 338786176.0000\n",
            "\n",
            "Epoch 00141: val_loss did not improve from 322584800.00000\n",
            "Epoch 142/200\n",
            "9/9 [==============================] - 0s 8ms/step - loss: 279254696.0000 - val_loss: 324062912.0000\n",
            "\n",
            "Epoch 00142: val_loss did not improve from 322584800.00000\n",
            "Epoch 143/200\n",
            "9/9 [==============================] - 0s 9ms/step - loss: 237882429.6000 - val_loss: 321684864.0000\n",
            "\n",
            "Epoch 00143: val_loss improved from 322584800.00000 to 321684864.00000, saving model to model/tmp_checkpoint.h5\n",
            "Epoch 144/200\n",
            "9/9 [==============================] - 0s 9ms/step - loss: 294293155.2000 - val_loss: 320460032.0000\n",
            "\n",
            "Epoch 00144: val_loss improved from 321684864.00000 to 320460032.00000, saving model to model/tmp_checkpoint.h5\n",
            "Epoch 145/200\n",
            "9/9 [==============================] - 0s 9ms/step - loss: 306399976.0000 - val_loss: 319919392.0000\n",
            "\n",
            "Epoch 00145: val_loss improved from 320460032.00000 to 319919392.00000, saving model to model/tmp_checkpoint.h5\n",
            "Epoch 146/200\n",
            "9/9 [==============================] - 0s 10ms/step - loss: 326893750.4000 - val_loss: 321984800.0000\n",
            "\n",
            "Epoch 00146: val_loss did not improve from 319919392.00000\n",
            "Epoch 147/200\n",
            "9/9 [==============================] - 0s 9ms/step - loss: 284939406.4000 - val_loss: 318863872.0000\n",
            "\n",
            "Epoch 00147: val_loss improved from 319919392.00000 to 318863872.00000, saving model to model/tmp_checkpoint.h5\n",
            "Epoch 148/200\n",
            "9/9 [==============================] - 0s 11ms/step - loss: 317108217.6000 - val_loss: 322784032.0000\n",
            "\n",
            "Epoch 00148: val_loss did not improve from 318863872.00000\n",
            "Epoch 149/200\n",
            "9/9 [==============================] - 0s 9ms/step - loss: 422767779.2000 - val_loss: 319939744.0000\n",
            "\n",
            "Epoch 00149: val_loss did not improve from 318863872.00000\n",
            "Epoch 150/200\n",
            "9/9 [==============================] - 0s 9ms/step - loss: 321373139.2000 - val_loss: 328449216.0000\n",
            "\n",
            "Epoch 00150: val_loss did not improve from 318863872.00000\n",
            "Epoch 151/200\n",
            "9/9 [==============================] - 0s 8ms/step - loss: 354258179.2000 - val_loss: 318053120.0000\n",
            "\n",
            "Epoch 00151: val_loss improved from 318863872.00000 to 318053120.00000, saving model to model/tmp_checkpoint.h5\n",
            "Epoch 152/200\n",
            "9/9 [==============================] - 0s 9ms/step - loss: 324161523.2000 - val_loss: 318254624.0000\n",
            "\n",
            "Epoch 00152: val_loss did not improve from 318053120.00000\n",
            "Epoch 153/200\n",
            "9/9 [==============================] - 0s 10ms/step - loss: 372358713.6000 - val_loss: 332450688.0000\n",
            "\n",
            "Epoch 00153: val_loss did not improve from 318053120.00000\n",
            "Epoch 154/200\n",
            "9/9 [==============================] - 0s 9ms/step - loss: 357228812.8000 - val_loss: 322693984.0000\n",
            "\n",
            "Epoch 00154: val_loss did not improve from 318053120.00000\n",
            "Epoch 155/200\n",
            "9/9 [==============================] - 0s 9ms/step - loss: 316136659.2000 - val_loss: 316395008.0000\n",
            "\n",
            "Epoch 00155: val_loss improved from 318053120.00000 to 316395008.00000, saving model to model/tmp_checkpoint.h5\n",
            "Epoch 156/200\n",
            "9/9 [==============================] - 0s 9ms/step - loss: 350588582.4000 - val_loss: 340869248.0000\n",
            "\n",
            "Epoch 00156: val_loss did not improve from 316395008.00000\n",
            "Epoch 157/200\n",
            "9/9 [==============================] - 0s 9ms/step - loss: 345917052.8000 - val_loss: 347126464.0000\n",
            "\n",
            "Epoch 00157: val_loss did not improve from 316395008.00000\n",
            "Epoch 158/200\n",
            "9/9 [==============================] - 0s 9ms/step - loss: 347805897.6000 - val_loss: 341898944.0000\n",
            "\n",
            "Epoch 00158: val_loss did not improve from 316395008.00000\n",
            "Epoch 159/200\n",
            "9/9 [==============================] - 0s 10ms/step - loss: 289004345.6000 - val_loss: 346839200.0000\n",
            "\n",
            "Epoch 00159: val_loss did not improve from 316395008.00000\n",
            "Epoch 160/200\n",
            "9/9 [==============================] - 0s 9ms/step - loss: 323426953.6000 - val_loss: 359134336.0000\n",
            "\n",
            "Epoch 00160: val_loss did not improve from 316395008.00000\n"
          ],
          "name": "stdout"
        }
      ]
    },
    {
      "cell_type": "code",
      "metadata": {
        "colab": {
          "base_uri": "https://localhost:8080/"
        },
        "id": "NTGtyrVk2Zz2",
        "outputId": "76ac9c67-815f-454b-f8f7-c94f2e023126"
      },
      "source": [
        "model.load_weights(filename)\r\n",
        "pred = model.predict(test_feature)\r\n",
        "\r\n",
        "pred.shape"
      ],
      "execution_count": null,
      "outputs": [
        {
          "output_type": "stream",
          "text": [
            "WARNING:tensorflow:11 out of the last 11 calls to <function Model.make_predict_function.<locals>.predict_function at 0x7f39cb9fd0d0> triggered tf.function retracing. Tracing is expensive and the excessive number of tracings could be due to (1) creating @tf.function repeatedly in a loop, (2) passing tensors with different shapes, (3) passing Python objects instead of tensors. For (1), please define your @tf.function outside of the loop. For (2), @tf.function has experimental_relax_shapes=True option that relaxes argument shapes that can avoid unnecessary retracing. For (3), please refer to https://www.tensorflow.org/guide/function#controlling_retracing and https://www.tensorflow.org/api_docs/python/tf/function for  more details.\n"
          ],
          "name": "stdout"
        },
        {
          "output_type": "execute_result",
          "data": {
            "text/plain": [
              "(30, 1)"
            ]
          },
          "metadata": {
            "tags": []
          },
          "execution_count": 263
        }
      ]
    },
    {
      "cell_type": "code",
      "metadata": {
        "id": "jIzCgiHeCVPw"
      },
      "source": [
        ""
      ],
      "execution_count": null,
      "outputs": []
    },
    {
      "cell_type": "code",
      "metadata": {
        "id": "DwOjiBTnCcdc"
      },
      "source": [
        ""
      ],
      "execution_count": null,
      "outputs": []
    },
    {
      "cell_type": "code",
      "metadata": {
        "id": "sgh_2NjI2xAG"
      },
      "source": [
        "from matplotlib import pyplot as plt"
      ],
      "execution_count": null,
      "outputs": []
    },
    {
      "cell_type": "code",
      "metadata": {
        "colab": {
          "base_uri": "https://localhost:8080/",
          "height": 537
        },
        "id": "txz7r7oN2fsj",
        "outputId": "c6b55628-1f4e-456a-c0f1-58affb977b74"
      },
      "source": [
        "plt.figure(figsize=(12, 9))\r\n",
        "plt.plot(test_label, label = 'actual')\r\n",
        "plt.plot(pred, label = 'prediction')\r\n",
        "plt.legend()\r\n",
        "plt.show()"
      ],
      "execution_count": null,
      "outputs": [
        {
          "output_type": "display_data",
          "data": {
            "image/png": "[encoded data removed]",
            "text/plain": [
              "<Figure size 864x648 with 1 Axes>"
            ]
          },
          "metadata": {
            "tags": [],
            "needs_background": "light"
          }
        }
      ]
    }
  ]
}