{
  "nbformat": 4,
  "nbformat_minor": 0,
  "metadata": {
    "colab": {
      "name": "window_size 90.ipynb",
      "provenance": [],
      "collapsed_sections": [],
      "authorship_tag": "ABX9TyNp27n6hDN2d5EZcnCjM7BU",
      "include_colab_link": true
    },
    "kernelspec": {
      "name": "python3",
      "display_name": "Python 3"
    }
  },
  "cells": [
    {
      "cell_type": "markdown",
      "metadata": {
        "id": "view-in-github",
        "colab_type": "text"
      },
      "source": [
        "<a href=\"https://colab.research.google.com/github/Sunjung-Dev/AtoI-project/blob/main/window_size_90.ipynb\" target=\"_parent\"><img src=\"https://colab.research.google.com/assets/colab-badge.svg\" alt=\"Open In Colab\"/></a>"
      ]
    },
    {
      "cell_type": "code",
      "metadata": {
        "colab": {
          "base_uri": "https://localhost:8080/"
        },
        "id": "wzhvcxpvzHrP",
        "outputId": "806b08a5-b228-4e2e-b475-34531ee8df10"
      },
      "source": [
        "pip install finance-datareader"
      ],
      "execution_count": 1,
      "outputs": [
        {
          "output_type": "stream",
          "text": [
            "Collecting finance-datareader\n",
            "  Downloading https://files.pythonhosted.org/packages/83/5e/54306e72b5ff5d5ec6cc9f32cdf19602237f9bb70d64efcd527338388be3/finance_datareader-0.9.31-py3-none-any.whl\n",
            "Requirement already satisfied: requests>=2.3.0 in /usr/local/lib/python3.6/dist-packages (from finance-datareader) (2.23.0)\n",
            "Collecting requests-file\n",
            "  Downloading https://files.pythonhosted.org/packages/77/86/cdb5e8eaed90796aa83a6d9f75cfbd37af553c47a291cd47bc410ef9bdb2/requests_file-1.5.1-py2.py3-none-any.whl\n",
            "Requirement already satisfied: lxml in /usr/local/lib/python3.6/dist-packages (from finance-datareader) (4.2.6)\n",
            "Requirement already satisfied: tqdm in /usr/local/lib/python3.6/dist-packages (from finance-datareader) (4.41.1)\n",
            "Requirement already satisfied: pandas>=0.19.2 in /usr/local/lib/python3.6/dist-packages (from finance-datareader) (1.1.5)\n",
            "Requirement already satisfied: chardet<4,>=3.0.2 in /usr/local/lib/python3.6/dist-packages (from requests>=2.3.0->finance-datareader) (3.0.4)\n",
            "Requirement already satisfied: certifi>=2017.4.17 in /usr/local/lib/python3.6/dist-packages (from requests>=2.3.0->finance-datareader) (2020.12.5)\n",
            "Requirement already satisfied: idna<3,>=2.5 in /usr/local/lib/python3.6/dist-packages (from requests>=2.3.0->finance-datareader) (2.10)\n",
            "Requirement already satisfied: urllib3!=1.25.0,!=1.25.1,<1.26,>=1.21.1 in /usr/local/lib/python3.6/dist-packages (from requests>=2.3.0->finance-datareader) (1.24.3)\n",
            "Requirement already satisfied: six in /usr/local/lib/python3.6/dist-packages (from requests-file->finance-datareader) (1.15.0)\n",
            "Requirement already satisfied: numpy>=1.15.4 in /usr/local/lib/python3.6/dist-packages (from pandas>=0.19.2->finance-datareader) (1.19.5)\n",
            "Requirement already satisfied: pytz>=2017.2 in /usr/local/lib/python3.6/dist-packages (from pandas>=0.19.2->finance-datareader) (2018.9)\n",
            "Requirement already satisfied: python-dateutil>=2.7.3 in /usr/local/lib/python3.6/dist-packages (from pandas>=0.19.2->finance-datareader) (2.8.1)\n",
            "Installing collected packages: requests-file, finance-datareader\n",
            "Successfully installed finance-datareader-0.9.31 requests-file-1.5.1\n"
          ],
          "name": "stdout"
        }
      ]
    },
    {
      "cell_type": "code",
      "metadata": {
        "colab": {
          "base_uri": "https://localhost:8080/",
          "height": 450
        },
        "id": "DJMxrN_azf_l",
        "outputId": "be065f71-3ce8-4226-b4b6-a83e6473a716"
      },
      "source": [
        "import FinanceDataReader as fdr\n",
        "df = fdr.DataReader(symbol='005930',start='2020-02-19') #삼성전자, 2020년부터 현재\n",
        "df"
      ],
      "execution_count": 2,
      "outputs": [
        {
          "output_type": "execute_result",
          "data": {
            "text/html": [
              "<div>\n",
              "<style scoped>\n",
              "    .dataframe tbody tr th:only-of-type {\n",
              "        vertical-align: middle;\n",
              "    }\n",
              "\n",
              "    .dataframe tbody tr th {\n",
              "        vertical-align: top;\n",
              "    }\n",
              "\n",
              "    .dataframe thead th {\n",
              "        text-align: right;\n",
              "    }\n",
              "</style>\n",
              "<table border=\"1\" class=\"dataframe\">\n",
              "  <thead>\n",
              "    <tr style=\"text-align: right;\">\n",
              "      <th></th>\n",
              "      <th>Open</th>\n",
              "      <th>High</th>\n",
              "      <th>Low</th>\n",
              "      <th>Close</th>\n",
              "      <th>Volume</th>\n",
              "      <th>Change</th>\n",
              "    </tr>\n",
              "    <tr>\n",
              "      <th>Date</th>\n",
              "      <th></th>\n",
              "      <th></th>\n",
              "      <th></th>\n",
              "      <th></th>\n",
              "      <th></th>\n",
              "      <th></th>\n",
              "    </tr>\n",
              "  </thead>\n",
              "  <tbody>\n",
              "    <tr>\n",
              "      <th>2020-02-19</th>\n",
              "      <td>59800</td>\n",
              "      <td>60400</td>\n",
              "      <td>59400</td>\n",
              "      <td>60200</td>\n",
              "      <td>12951496</td>\n",
              "      <td>0.006689</td>\n",
              "    </tr>\n",
              "    <tr>\n",
              "      <th>2020-02-20</th>\n",
              "      <td>60700</td>\n",
              "      <td>61300</td>\n",
              "      <td>59600</td>\n",
              "      <td>60000</td>\n",
              "      <td>14591924</td>\n",
              "      <td>-0.003322</td>\n",
              "    </tr>\n",
              "    <tr>\n",
              "      <th>2020-02-21</th>\n",
              "      <td>58800</td>\n",
              "      <td>59800</td>\n",
              "      <td>58500</td>\n",
              "      <td>59200</td>\n",
              "      <td>13777393</td>\n",
              "      <td>-0.013333</td>\n",
              "    </tr>\n",
              "    <tr>\n",
              "      <th>2020-02-24</th>\n",
              "      <td>57400</td>\n",
              "      <td>58100</td>\n",
              "      <td>56800</td>\n",
              "      <td>56800</td>\n",
              "      <td>25627537</td>\n",
              "      <td>-0.040541</td>\n",
              "    </tr>\n",
              "    <tr>\n",
              "      <th>2020-02-25</th>\n",
              "      <td>56200</td>\n",
              "      <td>58000</td>\n",
              "      <td>56200</td>\n",
              "      <td>57900</td>\n",
              "      <td>23885408</td>\n",
              "      <td>0.019366</td>\n",
              "    </tr>\n",
              "    <tr>\n",
              "      <th>...</th>\n",
              "      <td>...</td>\n",
              "      <td>...</td>\n",
              "      <td>...</td>\n",
              "      <td>...</td>\n",
              "      <td>...</td>\n",
              "      <td>...</td>\n",
              "    </tr>\n",
              "    <tr>\n",
              "      <th>2021-02-15</th>\n",
              "      <td>83800</td>\n",
              "      <td>84500</td>\n",
              "      <td>83300</td>\n",
              "      <td>84200</td>\n",
              "      <td>23529706</td>\n",
              "      <td>0.031863</td>\n",
              "    </tr>\n",
              "    <tr>\n",
              "      <th>2021-02-16</th>\n",
              "      <td>84500</td>\n",
              "      <td>86000</td>\n",
              "      <td>84200</td>\n",
              "      <td>84900</td>\n",
              "      <td>20483100</td>\n",
              "      <td>0.008314</td>\n",
              "    </tr>\n",
              "    <tr>\n",
              "      <th>2021-02-17</th>\n",
              "      <td>83900</td>\n",
              "      <td>84200</td>\n",
              "      <td>83000</td>\n",
              "      <td>83200</td>\n",
              "      <td>18307735</td>\n",
              "      <td>-0.020024</td>\n",
              "    </tr>\n",
              "    <tr>\n",
              "      <th>2021-02-18</th>\n",
              "      <td>83200</td>\n",
              "      <td>83600</td>\n",
              "      <td>82100</td>\n",
              "      <td>82100</td>\n",
              "      <td>21327683</td>\n",
              "      <td>-0.013221</td>\n",
              "    </tr>\n",
              "    <tr>\n",
              "      <th>2021-02-19</th>\n",
              "      <td>82300</td>\n",
              "      <td>82800</td>\n",
              "      <td>81000</td>\n",
              "      <td>82600</td>\n",
              "      <td>25469274</td>\n",
              "      <td>0.006090</td>\n",
              "    </tr>\n",
              "  </tbody>\n",
              "</table>\n",
              "<p>249 rows × 6 columns</p>\n",
              "</div>"
            ],
            "text/plain": [
              "             Open   High    Low  Close    Volume    Change\n",
              "Date                                                      \n",
              "2020-02-19  59800  60400  59400  60200  12951496  0.006689\n",
              "2020-02-20  60700  61300  59600  60000  14591924 -0.003322\n",
              "2020-02-21  58800  59800  58500  59200  13777393 -0.013333\n",
              "2020-02-24  57400  58100  56800  56800  25627537 -0.040541\n",
              "2020-02-25  56200  58000  56200  57900  23885408  0.019366\n",
              "...           ...    ...    ...    ...       ...       ...\n",
              "2021-02-15  83800  84500  83300  84200  23529706  0.031863\n",
              "2021-02-16  84500  86000  84200  84900  20483100  0.008314\n",
              "2021-02-17  83900  84200  83000  83200  18307735 -0.020024\n",
              "2021-02-18  83200  83600  82100  82100  21327683 -0.013221\n",
              "2021-02-19  82300  82800  81000  82600  25469274  0.006090\n",
              "\n",
              "[249 rows x 6 columns]"
            ]
          },
          "metadata": {
            "tags": []
          },
          "execution_count": 2
        }
      ]
    },
    {
      "cell_type": "code",
      "metadata": {
        "colab": {
          "base_uri": "https://localhost:8080/",
          "height": 277
        },
        "id": "tKJb7LWfzvxf",
        "outputId": "95fa85e1-f101-405a-f2de-e9ba99cb3cc7"
      },
      "source": [
        "df['Close'].plot(); #주가이동표?"
      ],
      "execution_count": 3,
      "outputs": [
        {
          "output_type": "display_data",
          "data": {
            "image/png": "[encoded data removed]",
            "text/plain": [
              "<Figure size 432x288 with 1 Axes>"
            ]
          },
          "metadata": {
            "tags": [],
            "needs_background": "light"
          }
        }
      ]
    },
    {
      "cell_type": "code",
      "metadata": {
        "id": "HcOokjWF5ohJ"
      },
      "source": [
        "import numpy as np\n",
        "import pandas as pd\n",
        "import os\n",
        "import json\n",
        "from google.colab import drive"
      ],
      "execution_count": 4,
      "outputs": []
    },
    {
      "cell_type": "code",
      "metadata": {
        "colab": {
          "base_uri": "https://localhost:8080/"
        },
        "id": "y8jUqOwY6BDq",
        "outputId": "edde2121-d45d-4c9b-9386-957672f2781a"
      },
      "source": [
        "drive.mount('/content/gdrive')"
      ],
      "execution_count": 5,
      "outputs": [
        {
          "output_type": "stream",
          "text": [
            "Mounted at /content/gdrive\n"
          ],
          "name": "stdout"
        }
      ]
    },
    {
      "cell_type": "code",
      "metadata": {
        "id": "AfFOgppE6P-c"
      },
      "source": [
        "base_dir = \"/content/gdrive/MyDrive\"\n",
        "#file_name = \"df.xlsx\"\n",
        "#xlxs_dir = os.path.join(base_dir,file_name)"
      ],
      "execution_count": 6,
      "outputs": []
    },
    {
      "cell_type": "code",
      "metadata": {
        "colab": {
          "base_uri": "https://localhost:8080/",
          "height": 317
        },
        "id": "ZWNXF_306tat",
        "outputId": "dfd44416-2877-46a9-c0d4-dcb0eae283dc"
      },
      "source": [
        "df_price = pd.read_csv(os.path.join(base_dir,'005930.KS.csv'),encoding='utf8')\n",
        "df_price.describe()"
      ],
      "execution_count": 7,
      "outputs": [
        {
          "output_type": "execute_result",
          "data": {
            "text/html": [
              "<div>\n",
              "<style scoped>\n",
              "    .dataframe tbody tr th:only-of-type {\n",
              "        vertical-align: middle;\n",
              "    }\n",
              "\n",
              "    .dataframe tbody tr th {\n",
              "        vertical-align: top;\n",
              "    }\n",
              "\n",
              "    .dataframe thead th {\n",
              "        text-align: right;\n",
              "    }\n",
              "</style>\n",
              "<table border=\"1\" class=\"dataframe\">\n",
              "  <thead>\n",
              "    <tr style=\"text-align: right;\">\n",
              "      <th></th>\n",
              "      <th>Open</th>\n",
              "      <th>High</th>\n",
              "      <th>Low</th>\n",
              "      <th>Close</th>\n",
              "      <th>Adj Close</th>\n",
              "      <th>Volume</th>\n",
              "    </tr>\n",
              "  </thead>\n",
              "  <tbody>\n",
              "    <tr>\n",
              "      <th>count</th>\n",
              "      <td>249.000000</td>\n",
              "      <td>249.000000</td>\n",
              "      <td>249.000000</td>\n",
              "      <td>249.000000</td>\n",
              "      <td>249.000000</td>\n",
              "      <td>2.490000e+02</td>\n",
              "    </tr>\n",
              "    <tr>\n",
              "      <th>mean</th>\n",
              "      <td>60600.401606</td>\n",
              "      <td>61402.811245</td>\n",
              "      <td>59898.594378</td>\n",
              "      <td>60616.064257</td>\n",
              "      <td>59066.623871</td>\n",
              "      <td>2.381717e+07</td>\n",
              "    </tr>\n",
              "    <tr>\n",
              "      <th>std</th>\n",
              "      <td>11848.228730</td>\n",
              "      <td>12174.702426</td>\n",
              "      <td>11759.358320</td>\n",
              "      <td>11935.824826</td>\n",
              "      <td>12484.814848</td>\n",
              "      <td>1.059794e+07</td>\n",
              "    </tr>\n",
              "    <tr>\n",
              "      <th>min</th>\n",
              "      <td>42600.000000</td>\n",
              "      <td>43550.000000</td>\n",
              "      <td>42300.000000</td>\n",
              "      <td>42500.000000</td>\n",
              "      <td>40629.570313</td>\n",
              "      <td>0.000000e+00</td>\n",
              "    </tr>\n",
              "    <tr>\n",
              "      <th>25%</th>\n",
              "      <td>52100.000000</td>\n",
              "      <td>52900.000000</td>\n",
              "      <td>51700.000000</td>\n",
              "      <td>52300.000000</td>\n",
              "      <td>50367.417969</td>\n",
              "      <td>1.690572e+07</td>\n",
              "    </tr>\n",
              "    <tr>\n",
              "      <th>50%</th>\n",
              "      <td>57500.000000</td>\n",
              "      <td>58100.000000</td>\n",
              "      <td>56800.000000</td>\n",
              "      <td>57800.000000</td>\n",
              "      <td>55745.511719</td>\n",
              "      <td>2.115717e+07</td>\n",
              "    </tr>\n",
              "    <tr>\n",
              "      <th>75%</th>\n",
              "      <td>64100.000000</td>\n",
              "      <td>66200.000000</td>\n",
              "      <td>63900.000000</td>\n",
              "      <td>64800.000000</td>\n",
              "      <td>63209.226563</td>\n",
              "      <td>2.804683e+07</td>\n",
              "    </tr>\n",
              "    <tr>\n",
              "      <th>max</th>\n",
              "      <td>90300.000000</td>\n",
              "      <td>96800.000000</td>\n",
              "      <td>89500.000000</td>\n",
              "      <td>91000.000000</td>\n",
              "      <td>91000.000000</td>\n",
              "      <td>9.030618e+07</td>\n",
              "    </tr>\n",
              "  </tbody>\n",
              "</table>\n",
              "</div>"
            ],
            "text/plain": [
              "               Open          High  ...     Adj Close        Volume\n",
              "count    249.000000    249.000000  ...    249.000000  2.490000e+02\n",
              "mean   60600.401606  61402.811245  ...  59066.623871  2.381717e+07\n",
              "std    11848.228730  12174.702426  ...  12484.814848  1.059794e+07\n",
              "min    42600.000000  43550.000000  ...  40629.570313  0.000000e+00\n",
              "25%    52100.000000  52900.000000  ...  50367.417969  1.690572e+07\n",
              "50%    57500.000000  58100.000000  ...  55745.511719  2.115717e+07\n",
              "75%    64100.000000  66200.000000  ...  63209.226563  2.804683e+07\n",
              "max    90300.000000  96800.000000  ...  91000.000000  9.030618e+07\n",
              "\n",
              "[8 rows x 6 columns]"
            ]
          },
          "metadata": {
            "tags": []
          },
          "execution_count": 7
        }
      ]
    },
    {
      "cell_type": "code",
      "metadata": {
        "id": "Ox9rzRiak03D"
      },
      "source": [
        "from sklearn.preprocessing import MinMaxScaler"
      ],
      "execution_count": 8,
      "outputs": []
    },
    {
      "cell_type": "code",
      "metadata": {
        "id": "tO-8XOmEk7Kq"
      },
      "source": [
        "scaler = MinMaxScaler()\n",
        "#scale_cols = ['시가', '고가', '저가', '종가', '거래량']\n",
        "scale_cols = ['Open','High', 'Low', 'Close', 'Volume']  #왜 volume 인식 못하는지 모를 일\n",
        "df_scaled = scaler.fit_transform(df[scale_cols])\n"
      ],
      "execution_count": 9,
      "outputs": []
    },
    {
      "cell_type": "code",
      "metadata": {
        "colab": {
          "base_uri": "https://localhost:8080/"
        },
        "id": "hMTXksViow6F",
        "outputId": "8670fed4-345b-4055-ec95-d31ffe02a359"
      },
      "source": [
        "df_scaled = pd.DataFrame(df_scaled)\n",
        "df_scaled.colums = scale_cols\n",
        "\n",
        "print(df_scaled)"
      ],
      "execution_count": 10,
      "outputs": [
        {
          "output_type": "stream",
          "text": [
            "            0         1         2         3         4\n",
            "0    0.360587  0.316432  0.362288  0.364948  0.044815\n",
            "1    0.379455  0.333333  0.366525  0.360825  0.065071\n",
            "2    0.339623  0.305164  0.343220  0.344330  0.055013\n",
            "3    0.310273  0.273239  0.307203  0.294845  0.201340\n",
            "4    0.285115  0.271362  0.294492  0.317526  0.179828\n",
            "..        ...       ...       ...       ...       ...\n",
            "244  0.863732  0.769014  0.868644  0.859794  0.175436\n",
            "245  0.878407  0.797183  0.887712  0.874227  0.137816\n",
            "246  0.865828  0.763380  0.862288  0.839175  0.110954\n",
            "247  0.851153  0.752113  0.843220  0.816495  0.148245\n",
            "248  0.832285  0.737089  0.819915  0.826804  0.199386\n",
            "\n",
            "[249 rows x 5 columns]\n"
          ],
          "name": "stdout"
        },
        {
          "output_type": "stream",
          "text": [
            "/usr/local/lib/python3.6/dist-packages/ipykernel_launcher.py:2: UserWarning: Pandas doesn't allow columns to be created via a new attribute name - see https://pandas.pydata.org/pandas-docs/stable/indexing.html#attribute-access\n",
            "  \n"
          ],
          "name": "stderr"
        }
      ]
    },
    {
      "cell_type": "code",
      "metadata": {
        "id": "mRQmEaM1pTgW"
      },
      "source": [
        "def make_dataset(data, label, window_size = 90):\n",
        "  feature_list = []\n",
        "  label_list = []\n",
        "  for i in range(len(data) - window_size):\n",
        "    feature_list.append(np.array(data.iloc[i:i+window_size]))\n",
        "    label_list.append(np.array(label.iloc[i+window_size]))\n",
        "  return np.array(feature_list), np.array(label_list)"
      ],
      "execution_count": 11,
      "outputs": []
    },
    {
      "cell_type": "code",
      "metadata": {
        "id": "Q4Hd15VXrJhw"
      },
      "source": [
        "feature_cols = [0,1, 2,4] #시가, 고가, 저가, 거래량\n",
        "label_cols = [3]  #종가"
      ],
      "execution_count": 12,
      "outputs": []
    },
    {
      "cell_type": "code",
      "metadata": {
        "id": "2SvqtnbnQea1"
      },
      "source": [
        "TEST_SIZE = 100\n",
        "train = df_scaled[:-TEST_SIZE]\n",
        "test = df_scaled[-TEST_SIZE:]"
      ],
      "execution_count": 13,
      "outputs": []
    },
    {
      "cell_type": "code",
      "metadata": {
        "id": "MyrBFM8wronB"
      },
      "source": [
        "train_feature = train[feature_cols]\n",
        "train_label = train[label_cols]"
      ],
      "execution_count": 14,
      "outputs": []
    },
    {
      "cell_type": "code",
      "metadata": {
        "id": "P5fEXsz8B2tR"
      },
      "source": [
        "train_feature, train_label = make_dataset(train_feature,train_label,20)"
      ],
      "execution_count": 15,
      "outputs": []
    },
    {
      "cell_type": "code",
      "metadata": {
        "id": "nx1SSkvMCPRo"
      },
      "source": [
        "from sklearn.model_selection import train_test_split\n",
        "x_train, x_valid, y_train, y_valid = train_test_split(train_feature,train_label,test_size = 0.2)"
      ],
      "execution_count": 16,
      "outputs": []
    },
    {
      "cell_type": "code",
      "metadata": {
        "colab": {
          "base_uri": "https://localhost:8080/"
        },
        "id": "gFVAu7rmCktL",
        "outputId": "e63fe692-5935-4a4b-d734-866107797517"
      },
      "source": [
        "x_train.shape, x_valid.shape"
      ],
      "execution_count": 17,
      "outputs": [
        {
          "output_type": "execute_result",
          "data": {
            "text/plain": [
              "((103, 20, 4), (26, 20, 4))"
            ]
          },
          "metadata": {
            "tags": []
          },
          "execution_count": 17
        }
      ]
    },
    {
      "cell_type": "code",
      "metadata": {
        "id": "mwvuwpzPEQYQ"
      },
      "source": [
        "test_feature = test[feature_cols]\n",
        "test_label = test[label_cols]"
      ],
      "execution_count": 18,
      "outputs": []
    },
    {
      "cell_type": "code",
      "metadata": {
        "colab": {
          "base_uri": "https://localhost:8080/"
        },
        "id": "36CPItmZEbgg",
        "outputId": "cb073a30-d543-40c4-e943-8a17379b6302"
      },
      "source": [
        "test_feature.shape, test_label.shape"
      ],
      "execution_count": 19,
      "outputs": [
        {
          "output_type": "execute_result",
          "data": {
            "text/plain": [
              "((100, 4), (100, 1))"
            ]
          },
          "metadata": {
            "tags": []
          },
          "execution_count": 19
        }
      ]
    },
    {
      "cell_type": "code",
      "metadata": {
        "colab": {
          "base_uri": "https://localhost:8080/"
        },
        "id": "U_J1iDd-CsM8",
        "outputId": "541f5fa6-6c0a-4c6c-b465-5c0e2f253a59"
      },
      "source": [
        "test_feature, test_label = make_dataset(test_feature, test_label, 20)\n",
        "test_feature.shape, test_label.shape\n",
        "#test_size를 36으로 설정하면 결과가 0으로만 나옴"
      ],
      "execution_count": 20,
      "outputs": [
        {
          "output_type": "execute_result",
          "data": {
            "text/plain": [
              "((80, 20, 4), (80, 1))"
            ]
          },
          "metadata": {
            "tags": []
          },
          "execution_count": 20
        }
      ]
    },
    {
      "cell_type": "code",
      "metadata": {
        "id": "jIjauK_6GLcI"
      },
      "source": [
        "from keras.models import Sequential\n",
        "from keras.layers import Dense\n",
        "from keras.callbacks import EarlyStopping, ModelCheckpoint\n",
        "from keras.layers import LSTM"
      ],
      "execution_count": 21,
      "outputs": []
    },
    {
      "cell_type": "code",
      "metadata": {
        "id": "KbdEXco1GhKL"
      },
      "source": [
        "model = Sequential()\n",
        "model.add(LSTM(90, \n",
        "               input_shape=(train_feature.shape[1], train_feature.shape[2]),\n",
        "               activation='relu',\n",
        "               return_sequences=False)\n",
        "        )\n",
        "model.add(Dense(1))"
      ],
      "execution_count": 22,
      "outputs": []
    },
    {
      "cell_type": "code",
      "metadata": {
        "id": "gaygdVYpHBe4"
      },
      "source": [
        "model.compile(loss='mean_squared_error',optimizer='adam')\n",
        "early_stop = EarlyStopping(monitor='val_loss',patience=5)"
      ],
      "execution_count": 23,
      "outputs": []
    },
    {
      "cell_type": "code",
      "metadata": {
        "id": "qP1jYzKXHPQR"
      },
      "source": [
        "model_path='model'\n",
        "filename = os.path.join(model_path, 'tmp_checkpoint.h5')\n",
        "checkpoint = ModelCheckpoint(filename, monitor='val_loss',verbose=1,save_best_only=True,mode='auto')"
      ],
      "execution_count": 24,
      "outputs": []
    },
    {
      "cell_type": "code",
      "metadata": {
        "colab": {
          "base_uri": "https://localhost:8080/"
        },
        "id": "zU16Z8_HHric",
        "outputId": "e963ae44-9a29-408a-ed64-ee072b441617"
      },
      "source": [
        "history = model.fit(x_train, y_train,\n",
        "                    epochs=200,\n",
        "                    batch_size=16,\n",
        "                    validation_data=(x_valid,y_valid),\n",
        "                    callbacks=[early_stop,checkpoint])"
      ],
      "execution_count": 25,
      "outputs": [
        {
          "output_type": "stream",
          "text": [
            "Epoch 1/200\n",
            "7/7 [==============================] - 2s 109ms/step - loss: 0.0450 - val_loss: 0.0103\n",
            "\n",
            "Epoch 00001: val_loss improved from inf to 0.01027, saving model to model/tmp_checkpoint.h5\n",
            "Epoch 2/200\n",
            "7/7 [==============================] - 0s 20ms/step - loss: 0.0089 - val_loss: 0.0045\n",
            "\n",
            "Epoch 00002: val_loss improved from 0.01027 to 0.00449, saving model to model/tmp_checkpoint.h5\n",
            "Epoch 3/200\n",
            "7/7 [==============================] - 0s 20ms/step - loss: 0.0076 - val_loss: 0.0020\n",
            "\n",
            "Epoch 00003: val_loss improved from 0.00449 to 0.00198, saving model to model/tmp_checkpoint.h5\n",
            "Epoch 4/200\n",
            "7/7 [==============================] - 0s 19ms/step - loss: 0.0023 - val_loss: 0.0019\n",
            "\n",
            "Epoch 00004: val_loss improved from 0.00198 to 0.00190, saving model to model/tmp_checkpoint.h5\n",
            "Epoch 5/200\n",
            "7/7 [==============================] - 0s 18ms/step - loss: 0.0026 - val_loss: 0.0013\n",
            "\n",
            "Epoch 00005: val_loss improved from 0.00190 to 0.00130, saving model to model/tmp_checkpoint.h5\n",
            "Epoch 6/200\n",
            "7/7 [==============================] - 0s 21ms/step - loss: 0.0016 - val_loss: 0.0015\n",
            "\n",
            "Epoch 00006: val_loss did not improve from 0.00130\n",
            "Epoch 7/200\n",
            "7/7 [==============================] - 0s 19ms/step - loss: 0.0015 - val_loss: 0.0013\n",
            "\n",
            "Epoch 00007: val_loss did not improve from 0.00130\n",
            "Epoch 8/200\n",
            "7/7 [==============================] - 0s 19ms/step - loss: 0.0016 - val_loss: 0.0014\n",
            "\n",
            "Epoch 00008: val_loss did not improve from 0.00130\n",
            "Epoch 9/200\n",
            "7/7 [==============================] - 0s 19ms/step - loss: 0.0012 - val_loss: 0.0014\n",
            "\n",
            "Epoch 00009: val_loss did not improve from 0.00130\n",
            "Epoch 10/200\n",
            "7/7 [==============================] - 0s 19ms/step - loss: 0.0015 - val_loss: 0.0015\n",
            "\n",
            "Epoch 00010: val_loss did not improve from 0.00130\n"
          ],
          "name": "stdout"
        }
      ]
    },
    {
      "cell_type": "code",
      "metadata": {
        "id": "vapmEP-JIBqs"
      },
      "source": [
        "model.load_weights(filename)\n",
        "pred=model.predict(test_feature)"
      ],
      "execution_count": 26,
      "outputs": []
    },
    {
      "cell_type": "code",
      "metadata": {
        "colab": {
          "base_uri": "https://localhost:8080/"
        },
        "id": "J121apuJIIoh",
        "outputId": "3abd2d3b-d96a-4908-b6b1-e27f665955e7"
      },
      "source": [
        "pred.shape"
      ],
      "execution_count": 27,
      "outputs": [
        {
          "output_type": "execute_result",
          "data": {
            "text/plain": [
              "(80, 1)"
            ]
          },
          "metadata": {
            "tags": []
          },
          "execution_count": 27
        }
      ]
    },
    {
      "cell_type": "code",
      "metadata": {
        "id": "lM8SV6uaIj0v"
      },
      "source": [
        "import matplotlib.pyplot as plt"
      ],
      "execution_count": 28,
      "outputs": []
    },
    {
      "cell_type": "code",
      "metadata": {
        "colab": {
          "base_uri": "https://localhost:8080/",
          "height": 480
        },
        "id": "oHw78LUrILIh",
        "outputId": "47de8ba6-e548-4a8b-feae-77954deb2a47"
      },
      "source": [
        "plt.figure(figsize=(12,9))\n",
        "plt.plot(test_label,label='actual')\n",
        "plt.plot(pred,label='prediction')\n",
        "plt.legend()\n",
        "plt.show()"
      ],
      "execution_count": 29,
      "outputs": [
        {
          "output_type": "display_data",
          "data": {
            "image/png": "[encoded data removed]",
            "text/plain": [
              "<Figure size 864x648 with 1 Axes>"
            ]
          },
          "metadata": {
            "tags": [],
            "needs_background": "light"
          }
        }
      ]
    }
  ]
}