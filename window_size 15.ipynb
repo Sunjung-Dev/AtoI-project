{
  "nbformat": 4,
  "nbformat_minor": 0,
  "metadata": {
    "colab": {
      "name": "Untitled0.ipynb",
      "provenance": [],
      "collapsed_sections": [],
      "authorship_tag": "ABX9TyM+Gh6Y/AL/HAmEzs722FGG",
      "include_colab_link": true
    },
    "kernelspec": {
      "name": "python3",
      "display_name": "Python 3"
    },
    "accelerator": "GPU"
  },
  "cells": [
    {
      "cell_type": "markdown",
      "metadata": {
        "id": "view-in-github",
        "colab_type": "text"
      },
      "source": [
        "<a href=\"https://colab.research.google.com/github/Sunjung-Dev/AtoI-project/blob/main/window_size%2015.ipynb\" target=\"_parent\"><img src=\"https://colab.research.google.com/assets/colab-badge.svg\" alt=\"Open In Colab\"/></a>"
      ]
    },
    {
      "cell_type": "code",
      "metadata": {
        "id": "ga6yFntvKo8J"
      },
      "source": [
        "import pandas as pd\r\n",
        "import numpy as np\r\n",
        "import matplotlib.pyplot as plt\r\n",
        "import datetime"
      ],
      "execution_count": 1,
      "outputs": []
    },
    {
      "cell_type": "code",
      "metadata": {
        "colab": {
          "base_uri": "https://localhost:8080/"
        },
        "id": "XH3cFXtuMQUp",
        "outputId": "8fba1dd1-4890-4d06-e356-fa377ff86e67"
      },
      "source": [
        "from google.colab import drive\r\n",
        "drive.mount('/content/drive')"
      ],
      "execution_count": 2,
      "outputs": [
        {
          "output_type": "stream",
          "text": [
            "Drive already mounted at /content/drive; to attempt to forcibly remount, call drive.mount(\"/content/drive\", force_remount=True).\n"
          ],
          "name": "stdout"
        }
      ]
    },
    {
      "cell_type": "code",
      "metadata": {
        "colab": {
          "base_uri": "https://localhost:8080/",
          "height": 195
        },
        "id": "IWUyCXK8M-QJ",
        "outputId": "7faef41d-edd7-40eb-bc4f-180fd70e1aff"
      },
      "source": [
        "data_low = pd.read_csv(('/content/drive/My Drive/AtoI/005930.KS.csv'), header=0, names=['일자', '시가', '고가', '저가', '종가', '수정종가', '거래량'])\r\n",
        "df_price = data_low\r\n",
        "\r\n",
        "df_price.head()"
      ],
      "execution_count": 3,
      "outputs": [
        {
          "output_type": "execute_result",
          "data": {
            "text/html": [
              "<div>\n",
              "<style scoped>\n",
              "    .dataframe tbody tr th:only-of-type {\n",
              "        vertical-align: middle;\n",
              "    }\n",
              "\n",
              "    .dataframe tbody tr th {\n",
              "        vertical-align: top;\n",
              "    }\n",
              "\n",
              "    .dataframe thead th {\n",
              "        text-align: right;\n",
              "    }\n",
              "</style>\n",
              "<table border=\"1\" class=\"dataframe\">\n",
              "  <thead>\n",
              "    <tr style=\"text-align: right;\">\n",
              "      <th></th>\n",
              "      <th>일자</th>\n",
              "      <th>시가</th>\n",
              "      <th>고가</th>\n",
              "      <th>저가</th>\n",
              "      <th>종가</th>\n",
              "      <th>수정종가</th>\n",
              "      <th>거래량</th>\n",
              "    </tr>\n",
              "  </thead>\n",
              "  <tbody>\n",
              "    <tr>\n",
              "      <th>0</th>\n",
              "      <td>2020-02-20</td>\n",
              "      <td>60700.0</td>\n",
              "      <td>61300.0</td>\n",
              "      <td>59600.0</td>\n",
              "      <td>60000.0</td>\n",
              "      <td>57359.390625</td>\n",
              "      <td>14591924</td>\n",
              "    </tr>\n",
              "    <tr>\n",
              "      <th>1</th>\n",
              "      <td>2020-02-21</td>\n",
              "      <td>58800.0</td>\n",
              "      <td>59800.0</td>\n",
              "      <td>58500.0</td>\n",
              "      <td>59200.0</td>\n",
              "      <td>56594.593750</td>\n",
              "      <td>13777393</td>\n",
              "    </tr>\n",
              "    <tr>\n",
              "      <th>2</th>\n",
              "      <td>2020-02-24</td>\n",
              "      <td>57400.0</td>\n",
              "      <td>58100.0</td>\n",
              "      <td>56800.0</td>\n",
              "      <td>56800.0</td>\n",
              "      <td>54300.218750</td>\n",
              "      <td>25627537</td>\n",
              "    </tr>\n",
              "    <tr>\n",
              "      <th>3</th>\n",
              "      <td>2020-02-25</td>\n",
              "      <td>56200.0</td>\n",
              "      <td>58000.0</td>\n",
              "      <td>56200.0</td>\n",
              "      <td>57900.0</td>\n",
              "      <td>55351.808594</td>\n",
              "      <td>23885408</td>\n",
              "    </tr>\n",
              "    <tr>\n",
              "      <th>4</th>\n",
              "      <td>2020-02-26</td>\n",
              "      <td>56000.0</td>\n",
              "      <td>57000.0</td>\n",
              "      <td>56000.0</td>\n",
              "      <td>56500.0</td>\n",
              "      <td>54013.425781</td>\n",
              "      <td>25483102</td>\n",
              "    </tr>\n",
              "  </tbody>\n",
              "</table>\n",
              "</div>"
            ],
            "text/plain": [
              "           일자       시가       고가       저가       종가          수정종가       거래량\n",
              "0  2020-02-20  60700.0  61300.0  59600.0  60000.0  57359.390625  14591924\n",
              "1  2020-02-21  58800.0  59800.0  58500.0  59200.0  56594.593750  13777393\n",
              "2  2020-02-24  57400.0  58100.0  56800.0  56800.0  54300.218750  25627537\n",
              "3  2020-02-25  56200.0  58000.0  56200.0  57900.0  55351.808594  23885408\n",
              "4  2020-02-26  56000.0  57000.0  56000.0  56500.0  54013.425781  25483102"
            ]
          },
          "metadata": {
            "tags": []
          },
          "execution_count": 3
        }
      ]
    },
    {
      "cell_type": "code",
      "metadata": {
        "id": "_wXQBXBHUeuM",
        "colab": {
          "base_uri": "https://localhost:8080/",
          "height": 195
        },
        "outputId": "69e06bc1-a881-4890-89db-8a093a0b877f"
      },
      "source": [
        "pd.to_datetime(df_price['일자'], format='%Y-%m-%d')\r\n",
        "\r\n",
        "df_price['일자'] = pd.to_datetime(df_price['일자'], format='%Y-%m-%d')\r\n",
        "df_price['연도'] = df_price['일자'].dt.year\r\n",
        "df_price['월'] = df_price['일자'].dt.month\r\n",
        "df_price['일'] = df_price['일자'].dt.day\r\n",
        "\r\n",
        "df = df_price.loc[df_price['일자']>=\"2020-02-19\"]\r\n",
        "\r\n",
        "df.head()"
      ],
      "execution_count": 4,
      "outputs": [
        {
          "output_type": "execute_result",
          "data": {
            "text/html": [
              "<div>\n",
              "<style scoped>\n",
              "    .dataframe tbody tr th:only-of-type {\n",
              "        vertical-align: middle;\n",
              "    }\n",
              "\n",
              "    .dataframe tbody tr th {\n",
              "        vertical-align: top;\n",
              "    }\n",
              "\n",
              "    .dataframe thead th {\n",
              "        text-align: right;\n",
              "    }\n",
              "</style>\n",
              "<table border=\"1\" class=\"dataframe\">\n",
              "  <thead>\n",
              "    <tr style=\"text-align: right;\">\n",
              "      <th></th>\n",
              "      <th>일자</th>\n",
              "      <th>시가</th>\n",
              "      <th>고가</th>\n",
              "      <th>저가</th>\n",
              "      <th>종가</th>\n",
              "      <th>수정종가</th>\n",
              "      <th>거래량</th>\n",
              "      <th>연도</th>\n",
              "      <th>월</th>\n",
              "      <th>일</th>\n",
              "    </tr>\n",
              "  </thead>\n",
              "  <tbody>\n",
              "    <tr>\n",
              "      <th>0</th>\n",
              "      <td>2020-02-20</td>\n",
              "      <td>60700.0</td>\n",
              "      <td>61300.0</td>\n",
              "      <td>59600.0</td>\n",
              "      <td>60000.0</td>\n",
              "      <td>57359.390625</td>\n",
              "      <td>14591924</td>\n",
              "      <td>2020</td>\n",
              "      <td>2</td>\n",
              "      <td>20</td>\n",
              "    </tr>\n",
              "    <tr>\n",
              "      <th>1</th>\n",
              "      <td>2020-02-21</td>\n",
              "      <td>58800.0</td>\n",
              "      <td>59800.0</td>\n",
              "      <td>58500.0</td>\n",
              "      <td>59200.0</td>\n",
              "      <td>56594.593750</td>\n",
              "      <td>13777393</td>\n",
              "      <td>2020</td>\n",
              "      <td>2</td>\n",
              "      <td>21</td>\n",
              "    </tr>\n",
              "    <tr>\n",
              "      <th>2</th>\n",
              "      <td>2020-02-24</td>\n",
              "      <td>57400.0</td>\n",
              "      <td>58100.0</td>\n",
              "      <td>56800.0</td>\n",
              "      <td>56800.0</td>\n",
              "      <td>54300.218750</td>\n",
              "      <td>25627537</td>\n",
              "      <td>2020</td>\n",
              "      <td>2</td>\n",
              "      <td>24</td>\n",
              "    </tr>\n",
              "    <tr>\n",
              "      <th>3</th>\n",
              "      <td>2020-02-25</td>\n",
              "      <td>56200.0</td>\n",
              "      <td>58000.0</td>\n",
              "      <td>56200.0</td>\n",
              "      <td>57900.0</td>\n",
              "      <td>55351.808594</td>\n",
              "      <td>23885408</td>\n",
              "      <td>2020</td>\n",
              "      <td>2</td>\n",
              "      <td>25</td>\n",
              "    </tr>\n",
              "    <tr>\n",
              "      <th>4</th>\n",
              "      <td>2020-02-26</td>\n",
              "      <td>56000.0</td>\n",
              "      <td>57000.0</td>\n",
              "      <td>56000.0</td>\n",
              "      <td>56500.0</td>\n",
              "      <td>54013.425781</td>\n",
              "      <td>25483102</td>\n",
              "      <td>2020</td>\n",
              "      <td>2</td>\n",
              "      <td>26</td>\n",
              "    </tr>\n",
              "  </tbody>\n",
              "</table>\n",
              "</div>"
            ],
            "text/plain": [
              "          일자       시가       고가       저가  ...       거래량    연도  월   일\n",
              "0 2020-02-20  60700.0  61300.0  59600.0  ...  14591924  2020  2  20\n",
              "1 2020-02-21  58800.0  59800.0  58500.0  ...  13777393  2020  2  21\n",
              "2 2020-02-24  57400.0  58100.0  56800.0  ...  25627537  2020  2  24\n",
              "3 2020-02-25  56200.0  58000.0  56200.0  ...  23885408  2020  2  25\n",
              "4 2020-02-26  56000.0  57000.0  56000.0  ...  25483102  2020  2  26\n",
              "\n",
              "[5 rows x 10 columns]"
            ]
          },
          "metadata": {
            "tags": []
          },
          "execution_count": 4
        }
      ]
    },
    {
      "cell_type": "code",
      "metadata": {
        "colab": {
          "base_uri": "https://localhost:8080/",
          "height": 569
        },
        "id": "MzmTIrzWXqm5",
        "outputId": "03d3b55c-ce43-4ee6-b978-6b823e0ecd7b"
      },
      "source": [
        "import seaborn as sns\r\n",
        "\r\n",
        "plt.figure(figsize=(16, 9))\r\n",
        "sns.lineplot(y=df['종가'], x=df['일자'])\r\n",
        "plt.xlabel('Date')\r\n",
        "plt.ylabel('Price')"
      ],
      "execution_count": 17,
      "outputs": [
        {
          "output_type": "execute_result",
          "data": {
            "text/plain": [
              "Text(0, 0.5, 'Price')"
            ]
          },
          "metadata": {
            "tags": []
          },
          "execution_count": 17
        },
        {
          "output_type": "display_data",
          "data": {
            "image/png": "[encoded data removed]",
            "text/plain": [
              "<Figure size 1152x648 with 1 Axes>"
            ]
          },
          "metadata": {
            "tags": [],
            "needs_background": "light"
          }
        }
      ]
    },
    {
      "cell_type": "code",
      "metadata": {
        "colab": {
          "base_uri": "https://localhost:8080/",
          "height": 195
        },
        "id": "omhM6Jzsc7gx",
        "outputId": "6e7c4140-33f2-4c3d-85f4-0356f9115d59"
      },
      "source": [
        "from sklearn.preprocessing import MinMaxScaler\r\n",
        "\r\n",
        "scaler = MinMaxScaler()\r\n",
        "scale_cols = ['시가', '고가', '저가', '종가', '거래량']\r\n",
        "\r\n",
        "df_scaled = scaler.fit_transform(df[scale_cols])\r\n",
        "\r\n",
        "df_scaled = pd.DataFrame(df_scaled)\r\n",
        "df_scaled.columns = scale_cols\r\n",
        "\r\n",
        "df_scaled.head()"
      ],
      "execution_count": 6,
      "outputs": [
        {
          "output_type": "execute_result",
          "data": {
            "text/html": [
              "<div>\n",
              "<style scoped>\n",
              "    .dataframe tbody tr th:only-of-type {\n",
              "        vertical-align: middle;\n",
              "    }\n",
              "\n",
              "    .dataframe tbody tr th {\n",
              "        vertical-align: top;\n",
              "    }\n",
              "\n",
              "    .dataframe thead th {\n",
              "        text-align: right;\n",
              "    }\n",
              "</style>\n",
              "<table border=\"1\" class=\"dataframe\">\n",
              "  <thead>\n",
              "    <tr style=\"text-align: right;\">\n",
              "      <th></th>\n",
              "      <th>시가</th>\n",
              "      <th>고가</th>\n",
              "      <th>저가</th>\n",
              "      <th>종가</th>\n",
              "      <th>거래량</th>\n",
              "    </tr>\n",
              "  </thead>\n",
              "  <tbody>\n",
              "    <tr>\n",
              "      <th>0</th>\n",
              "      <td>0.379455</td>\n",
              "      <td>0.333333</td>\n",
              "      <td>0.366525</td>\n",
              "      <td>0.360825</td>\n",
              "      <td>0.161583</td>\n",
              "    </tr>\n",
              "    <tr>\n",
              "      <th>1</th>\n",
              "      <td>0.339623</td>\n",
              "      <td>0.305164</td>\n",
              "      <td>0.343220</td>\n",
              "      <td>0.344330</td>\n",
              "      <td>0.152563</td>\n",
              "    </tr>\n",
              "    <tr>\n",
              "      <th>2</th>\n",
              "      <td>0.310273</td>\n",
              "      <td>0.273239</td>\n",
              "      <td>0.307203</td>\n",
              "      <td>0.294845</td>\n",
              "      <td>0.283785</td>\n",
              "    </tr>\n",
              "    <tr>\n",
              "      <th>3</th>\n",
              "      <td>0.285115</td>\n",
              "      <td>0.271362</td>\n",
              "      <td>0.294492</td>\n",
              "      <td>0.317526</td>\n",
              "      <td>0.264494</td>\n",
              "    </tr>\n",
              "    <tr>\n",
              "      <th>4</th>\n",
              "      <td>0.280922</td>\n",
              "      <td>0.252582</td>\n",
              "      <td>0.290254</td>\n",
              "      <td>0.288660</td>\n",
              "      <td>0.282186</td>\n",
              "    </tr>\n",
              "  </tbody>\n",
              "</table>\n",
              "</div>"
            ],
            "text/plain": [
              "         시가        고가        저가        종가       거래량\n",
              "0  0.379455  0.333333  0.366525  0.360825  0.161583\n",
              "1  0.339623  0.305164  0.343220  0.344330  0.152563\n",
              "2  0.310273  0.273239  0.307203  0.294845  0.283785\n",
              "3  0.285115  0.271362  0.294492  0.317526  0.264494\n",
              "4  0.280922  0.252582  0.290254  0.288660  0.282186"
            ]
          },
          "metadata": {
            "tags": []
          },
          "execution_count": 6
        }
      ]
    },
    {
      "cell_type": "code",
      "metadata": {
        "id": "8-nPhUyzdFNf"
      },
      "source": [
        "TEST_SIZE = 100\r\n",
        "window_size = 15\r\n",
        "\r\n",
        "train = df_scaled[:-TEST_SIZE]\r\n",
        "test = df_scaled[-TEST_SIZE:]"
      ],
      "execution_count": 7,
      "outputs": []
    },
    {
      "cell_type": "code",
      "metadata": {
        "id": "7vYbSzG8nnRB"
      },
      "source": [
        "def make_dataset(data, label, window_size):\r\n",
        "    feature_list = []\r\n",
        "    label_list = []\r\n",
        "    for i in range(len(data) - window_size):\r\n",
        "        feature_list.append(np.array(data.iloc[i:i+window_size]))\r\n",
        "        label_list.append(np.array(label.iloc[i+window_size]))\r\n",
        "    return np.array(feature_list), np.array(label_list)"
      ],
      "execution_count": 8,
      "outputs": []
    },
    {
      "cell_type": "code",
      "metadata": {
        "colab": {
          "base_uri": "https://localhost:8080/"
        },
        "id": "yj5NBPxydU2K",
        "outputId": "98cfdd0d-cb62-447b-aa89-c593f47c23fd"
      },
      "source": [
        "from sklearn.model_selection import train_test_split\r\n",
        "\r\n",
        "feature_cols = ['시가', '고가', '저가', '거래량']\r\n",
        "label_cols = ['종가']\r\n",
        "\r\n",
        "train_feature = train[feature_cols]\r\n",
        "train_label = train[label_cols]\r\n",
        "\r\n",
        "train_feature, train_label = make_dataset(train_feature, train_label, window_size)\r\n",
        "\r\n",
        "x_train, x_valid, y_train, y_valid = train_test_split(train_feature, train_label, test_size=0.2)\r\n",
        "x_train.shape, x_valid.shape"
      ],
      "execution_count": 9,
      "outputs": [
        {
          "output_type": "execute_result",
          "data": {
            "text/plain": [
              "((106, 15, 4), (27, 15, 4))"
            ]
          },
          "metadata": {
            "tags": []
          },
          "execution_count": 9
        }
      ]
    },
    {
      "cell_type": "code",
      "metadata": {
        "colab": {
          "base_uri": "https://localhost:8080/"
        },
        "id": "plfVkn_Wh8PE",
        "outputId": "e71b42f5-74a9-46cd-ae61-855faaa093b1"
      },
      "source": [
        "test_feature = test[feature_cols]\r\n",
        "test_label = test[label_cols]\r\n",
        "\r\n",
        "test_feature.shape, test_label.shape"
      ],
      "execution_count": 10,
      "outputs": [
        {
          "output_type": "execute_result",
          "data": {
            "text/plain": [
              "((100, 4), (100, 1))"
            ]
          },
          "metadata": {
            "tags": []
          },
          "execution_count": 10
        }
      ]
    },
    {
      "cell_type": "code",
      "metadata": {
        "colab": {
          "base_uri": "https://localhost:8080/"
        },
        "id": "rDBdX-kWh-1t",
        "outputId": "78cd0489-ef36-4273-eac9-5bdd85d0b1b8"
      },
      "source": [
        "test_feature, test_label = make_dataset(test_feature, test_label, window_size)\r\n",
        "test_feature.shape, test_label.shape"
      ],
      "execution_count": 11,
      "outputs": [
        {
          "output_type": "execute_result",
          "data": {
            "text/plain": [
              "((85, 15, 4), (85, 1))"
            ]
          },
          "metadata": {
            "tags": []
          },
          "execution_count": 11
        }
      ]
    },
    {
      "cell_type": "code",
      "metadata": {
        "colab": {
          "base_uri": "https://localhost:8080/"
        },
        "id": "sR6bWVQKiGbk",
        "outputId": "ca532d38-38ae-4828-f61c-5e2bf645ab23"
      },
      "source": [
        "from keras.models import Sequential\r\n",
        "from keras.layers import Dense\r\n",
        "from keras.callbacks import EarlyStopping, ModelCheckpoint\r\n",
        "from keras.layers import LSTM\r\n",
        "\r\n",
        "model = Sequential()\r\n",
        "model.add(LSTM(64, \r\n",
        "               input_shape=(train_feature.shape[1], train_feature.shape[2]), \r\n",
        "               activation='relu', \r\n",
        "               return_sequences=False)\r\n",
        "          )\r\n",
        "\r\n",
        "model.add(Dense(1, activation='linear'))"
      ],
      "execution_count": 12,
      "outputs": [
        {
          "output_type": "stream",
          "text": [
            "WARNING:tensorflow:Layer lstm will not use cuDNN kernel since it doesn't meet the cuDNN kernel criteria. It will use generic GPU kernel as fallback when running on GPU\n"
          ],
          "name": "stdout"
        }
      ]
    },
    {
      "cell_type": "code",
      "metadata": {
        "colab": {
          "base_uri": "https://localhost:8080/"
        },
        "id": "rP6CcqZ3i2Lc",
        "outputId": "bff36ef0-66c4-48a0-e150-bf272445c08f"
      },
      "source": [
        "model.compile(loss='mean_squared_error', optimizer='adam')\r\n",
        "early_stop = EarlyStopping(monitor='val_loss', patience=5)\r\n",
        "\r\n",
        "import os\r\n",
        "model_path = 'model'\r\n",
        "filename = os.path.join(model_path, 'tmp_checkpoint.h5')\r\n",
        "checkpoint = ModelCheckpoint(filename, monitor='val_loss', verbose=1, save_best_only=True, mode='auto')\r\n",
        "\r\n",
        "history = model.fit(x_train, y_train, \r\n",
        "                    epochs=200, \r\n",
        "                    batch_size=16,\r\n",
        "                    validation_data=(x_valid, y_valid), \r\n",
        "                    callbacks=[early_stop, checkpoint])"
      ],
      "execution_count": 13,
      "outputs": [
        {
          "output_type": "stream",
          "text": [
            "Epoch 1/200\n",
            "7/7 [==============================] - 2s 93ms/step - loss: 0.0364 - val_loss: 0.0112\n",
            "\n",
            "Epoch 00001: val_loss improved from inf to 0.01118, saving model to model/tmp_checkpoint.h5\n",
            "Epoch 2/200\n",
            "7/7 [==============================] - 0s 26ms/step - loss: 0.0097 - val_loss: 0.0030\n",
            "\n",
            "Epoch 00002: val_loss improved from 0.01118 to 0.00303, saving model to model/tmp_checkpoint.h5\n",
            "Epoch 3/200\n",
            "7/7 [==============================] - 0s 26ms/step - loss: 0.0064 - val_loss: 0.0034\n",
            "\n",
            "Epoch 00003: val_loss did not improve from 0.00303\n",
            "Epoch 4/200\n",
            "7/7 [==============================] - 0s 26ms/step - loss: 0.0033 - val_loss: 0.0018\n",
            "\n",
            "Epoch 00004: val_loss improved from 0.00303 to 0.00180, saving model to model/tmp_checkpoint.h5\n",
            "Epoch 5/200\n",
            "7/7 [==============================] - 0s 26ms/step - loss: 0.0029 - val_loss: 0.0019\n",
            "\n",
            "Epoch 00005: val_loss did not improve from 0.00180\n",
            "Epoch 6/200\n",
            "7/7 [==============================] - 0s 30ms/step - loss: 0.0029 - val_loss: 0.0012\n",
            "\n",
            "Epoch 00006: val_loss improved from 0.00180 to 0.00115, saving model to model/tmp_checkpoint.h5\n",
            "Epoch 7/200\n",
            "7/7 [==============================] - 0s 28ms/step - loss: 0.0024 - val_loss: 0.0010\n",
            "\n",
            "Epoch 00007: val_loss improved from 0.00115 to 0.00103, saving model to model/tmp_checkpoint.h5\n",
            "Epoch 8/200\n",
            "7/7 [==============================] - 0s 25ms/step - loss: 0.0019 - val_loss: 0.0011\n",
            "\n",
            "Epoch 00008: val_loss did not improve from 0.00103\n",
            "Epoch 9/200\n",
            "7/7 [==============================] - 0s 29ms/step - loss: 0.0013 - val_loss: 0.0012\n",
            "\n",
            "Epoch 00009: val_loss did not improve from 0.00103\n",
            "Epoch 10/200\n",
            "7/7 [==============================] - 0s 27ms/step - loss: 0.0015 - val_loss: 0.0012\n",
            "\n",
            "Epoch 00010: val_loss did not improve from 0.00103\n",
            "Epoch 11/200\n",
            "7/7 [==============================] - 0s 26ms/step - loss: 0.0013 - val_loss: 0.0013\n",
            "\n",
            "Epoch 00011: val_loss did not improve from 0.00103\n",
            "Epoch 12/200\n",
            "7/7 [==============================] - 0s 29ms/step - loss: 0.0014 - val_loss: 0.0012\n",
            "\n",
            "Epoch 00012: val_loss did not improve from 0.00103\n"
          ],
          "name": "stdout"
        }
      ]
    },
    {
      "cell_type": "code",
      "metadata": {
        "colab": {
          "base_uri": "https://localhost:8080/"
        },
        "id": "Ag3TOhXDic8i",
        "outputId": "33c1eeab-be05-4108-e018-f9c46e41c4f9"
      },
      "source": [
        "model.load_weights(filename)\r\n",
        "pred = model.predict(test_feature)\r\n",
        "\r\n",
        "pred.shape"
      ],
      "execution_count": 14,
      "outputs": [
        {
          "output_type": "execute_result",
          "data": {
            "text/plain": [
              "(85, 1)"
            ]
          },
          "metadata": {
            "tags": []
          },
          "execution_count": 14
        }
      ]
    },
    {
      "cell_type": "code",
      "metadata": {
        "colab": {
          "base_uri": "https://localhost:8080/",
          "height": 537
        },
        "id": "LT1T-d0aid6p",
        "outputId": "ba2a1850-4477-48ae-a70d-1917583c50b5"
      },
      "source": [
        "plt.figure(figsize=(12, 9))\r\n",
        "plt.plot(test_label, label = 'actual')\r\n",
        "plt.plot(pred, label = 'prediction')\r\n",
        "plt.legend()\r\n",
        "plt.show()"
      ],
      "execution_count": 15,
      "outputs": [
        {
          "output_type": "display_data",
          "data": {
            "image/png": "[encoded data removed]",
            "text/plain": [
              "<Figure size 864x648 with 1 Axes>"
            ]
          },
          "metadata": {
            "tags": [],
            "needs_background": "light"
          }
        }
      ]
    }
  ]
}