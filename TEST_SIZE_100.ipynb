{
  "nbformat": 4,
  "nbformat_minor": 0,
  "metadata": {
    "colab": {
      "name": "TEST_SIZE 100",
      "provenance": [],
      "authorship_tag": "ABX9TyPieegDDga+xxiiYK+hJjoh",
      "include_colab_link": true
    },
    "kernelspec": {
      "name": "python3",
      "display_name": "Python 3"
    }
  },
  "cells": [
    {
      "cell_type": "markdown",
      "metadata": {
        "id": "view-in-github",
        "colab_type": "text"
      },
      "source": [
        "<a href=\"https://colab.research.google.com/github/Sunjung-Dev/AtoI-project/blob/main/TEST_SIZE_100.ipynb\" target=\"_parent\"><img src=\"https://colab.research.google.com/assets/colab-badge.svg\" alt=\"Open In Colab\"/></a>"
      ]
    },
    {
      "cell_type": "code",
      "metadata": {
        "colab": {
          "base_uri": "https://localhost:8080/"
        },
        "id": "xoCLoprLvgp9",
        "outputId": "78d7261b-3e50-4f47-d563-8c42484c3ba4"
      },
      "source": [
        "pip install finance-datareader"
      ],
      "execution_count": 1,
      "outputs": [
        {
          "output_type": "stream",
          "text": [
            "Collecting finance-datareader\n",
            "  Downloading https://files.pythonhosted.org/packages/83/5e/54306e72b5ff5d5ec6cc9f32cdf19602237f9bb70d64efcd527338388be3/finance_datareader-0.9.31-py3-none-any.whl\n",
            "Requirement already satisfied: requests>=2.3.0 in /usr/local/lib/python3.6/dist-packages (from finance-datareader) (2.23.0)\n",
            "Collecting requests-file\n",
            "  Downloading https://files.pythonhosted.org/packages/77/86/cdb5e8eaed90796aa83a6d9f75cfbd37af553c47a291cd47bc410ef9bdb2/requests_file-1.5.1-py2.py3-none-any.whl\n",
            "Requirement already satisfied: lxml in /usr/local/lib/python3.6/dist-packages (from finance-datareader) (4.2.6)\n",
            "Requirement already satisfied: pandas>=0.19.2 in /usr/local/lib/python3.6/dist-packages (from finance-datareader) (1.1.5)\n",
            "Requirement already satisfied: tqdm in /usr/local/lib/python3.6/dist-packages (from finance-datareader) (4.41.1)\n",
            "Requirement already satisfied: chardet<4,>=3.0.2 in /usr/local/lib/python3.6/dist-packages (from requests>=2.3.0->finance-datareader) (3.0.4)\n",
            "Requirement already satisfied: urllib3!=1.25.0,!=1.25.1,<1.26,>=1.21.1 in /usr/local/lib/python3.6/dist-packages (from requests>=2.3.0->finance-datareader) (1.24.3)\n",
            "Requirement already satisfied: idna<3,>=2.5 in /usr/local/lib/python3.6/dist-packages (from requests>=2.3.0->finance-datareader) (2.10)\n",
            "Requirement already satisfied: certifi>=2017.4.17 in /usr/local/lib/python3.6/dist-packages (from requests>=2.3.0->finance-datareader) (2020.12.5)\n",
            "Requirement already satisfied: six in /usr/local/lib/python3.6/dist-packages (from requests-file->finance-datareader) (1.15.0)\n",
            "Requirement already satisfied: numpy>=1.15.4 in /usr/local/lib/python3.6/dist-packages (from pandas>=0.19.2->finance-datareader) (1.19.5)\n",
            "Requirement already satisfied: pytz>=2017.2 in /usr/local/lib/python3.6/dist-packages (from pandas>=0.19.2->finance-datareader) (2018.9)\n",
            "Requirement already satisfied: python-dateutil>=2.7.3 in /usr/local/lib/python3.6/dist-packages (from pandas>=0.19.2->finance-datareader) (2.8.1)\n",
            "Installing collected packages: requests-file, finance-datareader\n",
            "Successfully installed finance-datareader-0.9.31 requests-file-1.5.1\n"
          ],
          "name": "stdout"
        }
      ]
    },
    {
      "cell_type": "code",
      "metadata": {
        "colab": {
          "base_uri": "https://localhost:8080/",
          "height": 450
        },
        "id": "SZBq7ZScv1F-",
        "outputId": "881eb5f8-f4e8-465b-8528-2fdf70833fdc"
      },
      "source": [
        "import FinanceDataReader as fdr \r\n",
        "DF = fdr.DataReader(symbol='005930', start='2020-02-19') # 삼성전자, 2020.02.19~현재\r\n",
        "DF"
      ],
      "execution_count": 3,
      "outputs": [
        {
          "output_type": "execute_result",
          "data": {
            "text/html": [
              "<div>\n",
              "<style scoped>\n",
              "    .dataframe tbody tr th:only-of-type {\n",
              "        vertical-align: middle;\n",
              "    }\n",
              "\n",
              "    .dataframe tbody tr th {\n",
              "        vertical-align: top;\n",
              "    }\n",
              "\n",
              "    .dataframe thead th {\n",
              "        text-align: right;\n",
              "    }\n",
              "</style>\n",
              "<table border=\"1\" class=\"dataframe\">\n",
              "  <thead>\n",
              "    <tr style=\"text-align: right;\">\n",
              "      <th></th>\n",
              "      <th>Open</th>\n",
              "      <th>High</th>\n",
              "      <th>Low</th>\n",
              "      <th>Close</th>\n",
              "      <th>Volume</th>\n",
              "      <th>Change</th>\n",
              "    </tr>\n",
              "    <tr>\n",
              "      <th>Date</th>\n",
              "      <th></th>\n",
              "      <th></th>\n",
              "      <th></th>\n",
              "      <th></th>\n",
              "      <th></th>\n",
              "      <th></th>\n",
              "    </tr>\n",
              "  </thead>\n",
              "  <tbody>\n",
              "    <tr>\n",
              "      <th>2020-02-19</th>\n",
              "      <td>59800</td>\n",
              "      <td>60400</td>\n",
              "      <td>59400</td>\n",
              "      <td>60200</td>\n",
              "      <td>12951496</td>\n",
              "      <td>0.006689</td>\n",
              "    </tr>\n",
              "    <tr>\n",
              "      <th>2020-02-20</th>\n",
              "      <td>60700</td>\n",
              "      <td>61300</td>\n",
              "      <td>59600</td>\n",
              "      <td>60000</td>\n",
              "      <td>14591924</td>\n",
              "      <td>-0.003322</td>\n",
              "    </tr>\n",
              "    <tr>\n",
              "      <th>2020-02-21</th>\n",
              "      <td>58800</td>\n",
              "      <td>59800</td>\n",
              "      <td>58500</td>\n",
              "      <td>59200</td>\n",
              "      <td>13777393</td>\n",
              "      <td>-0.013333</td>\n",
              "    </tr>\n",
              "    <tr>\n",
              "      <th>2020-02-24</th>\n",
              "      <td>57400</td>\n",
              "      <td>58100</td>\n",
              "      <td>56800</td>\n",
              "      <td>56800</td>\n",
              "      <td>25627537</td>\n",
              "      <td>-0.040541</td>\n",
              "    </tr>\n",
              "    <tr>\n",
              "      <th>2020-02-25</th>\n",
              "      <td>56200</td>\n",
              "      <td>58000</td>\n",
              "      <td>56200</td>\n",
              "      <td>57900</td>\n",
              "      <td>23885408</td>\n",
              "      <td>0.019366</td>\n",
              "    </tr>\n",
              "    <tr>\n",
              "      <th>...</th>\n",
              "      <td>...</td>\n",
              "      <td>...</td>\n",
              "      <td>...</td>\n",
              "      <td>...</td>\n",
              "      <td>...</td>\n",
              "      <td>...</td>\n",
              "    </tr>\n",
              "    <tr>\n",
              "      <th>2021-02-15</th>\n",
              "      <td>83800</td>\n",
              "      <td>84500</td>\n",
              "      <td>83300</td>\n",
              "      <td>84200</td>\n",
              "      <td>23529706</td>\n",
              "      <td>0.031863</td>\n",
              "    </tr>\n",
              "    <tr>\n",
              "      <th>2021-02-16</th>\n",
              "      <td>84500</td>\n",
              "      <td>86000</td>\n",
              "      <td>84200</td>\n",
              "      <td>84900</td>\n",
              "      <td>20483100</td>\n",
              "      <td>0.008314</td>\n",
              "    </tr>\n",
              "    <tr>\n",
              "      <th>2021-02-17</th>\n",
              "      <td>83900</td>\n",
              "      <td>84200</td>\n",
              "      <td>83000</td>\n",
              "      <td>83200</td>\n",
              "      <td>18307735</td>\n",
              "      <td>-0.020024</td>\n",
              "    </tr>\n",
              "    <tr>\n",
              "      <th>2021-02-18</th>\n",
              "      <td>83200</td>\n",
              "      <td>83600</td>\n",
              "      <td>82100</td>\n",
              "      <td>82100</td>\n",
              "      <td>21327683</td>\n",
              "      <td>-0.013221</td>\n",
              "    </tr>\n",
              "    <tr>\n",
              "      <th>2021-02-19</th>\n",
              "      <td>82300</td>\n",
              "      <td>82800</td>\n",
              "      <td>81000</td>\n",
              "      <td>82600</td>\n",
              "      <td>25469274</td>\n",
              "      <td>0.006090</td>\n",
              "    </tr>\n",
              "  </tbody>\n",
              "</table>\n",
              "<p>249 rows × 6 columns</p>\n",
              "</div>"
            ],
            "text/plain": [
              "             Open   High    Low  Close    Volume    Change\n",
              "Date                                                      \n",
              "2020-02-19  59800  60400  59400  60200  12951496  0.006689\n",
              "2020-02-20  60700  61300  59600  60000  14591924 -0.003322\n",
              "2020-02-21  58800  59800  58500  59200  13777393 -0.013333\n",
              "2020-02-24  57400  58100  56800  56800  25627537 -0.040541\n",
              "2020-02-25  56200  58000  56200  57900  23885408  0.019366\n",
              "...           ...    ...    ...    ...       ...       ...\n",
              "2021-02-15  83800  84500  83300  84200  23529706  0.031863\n",
              "2021-02-16  84500  86000  84200  84900  20483100  0.008314\n",
              "2021-02-17  83900  84200  83000  83200  18307735 -0.020024\n",
              "2021-02-18  83200  83600  82100  82100  21327683 -0.013221\n",
              "2021-02-19  82300  82800  81000  82600  25469274  0.006090\n",
              "\n",
              "[249 rows x 6 columns]"
            ]
          },
          "metadata": {
            "tags": []
          },
          "execution_count": 3
        }
      ]
    },
    {
      "cell_type": "code",
      "metadata": {
        "colab": {
          "base_uri": "https://localhost:8080/",
          "height": 277
        },
        "id": "J_GK9pWlv8kQ",
        "outputId": "5f041666-49b2-4c95-b215-ac37b029038c"
      },
      "source": [
        "DF['Close'].plot();"
      ],
      "execution_count": 4,
      "outputs": [
        {
          "output_type": "display_data",
          "data": {
            "image/png": "[encoded data removed]",
            "text/plain": [
              "<Figure size 432x288 with 1 Axes>"
            ]
          },
          "metadata": {
            "tags": [],
            "needs_background": "light"
          }
        }
      ]
    },
    {
      "cell_type": "code",
      "metadata": {
        "colab": {
          "base_uri": "https://localhost:8080/"
        },
        "id": "YJOfXu-_wrzf",
        "outputId": "e1d78d45-9a74-47d3-f1ab-745b9feb6d8b"
      },
      "source": [
        "from sklearn.preprocessing import MinMaxScaler\r\n",
        "\r\n",
        "scaler = MinMaxScaler()\r\n",
        "scale_cols = ['Open', 'High', 'Low', 'Close', 'Volume']\r\n",
        "df_scaled = scaler.fit_transform(DF[scale_cols])\r\n",
        "\r\n",
        "df_scaled = pd.DataFrame(df_scaled)\r\n",
        "df_scaled.columns = scale_cols\r\n",
        "\r\n",
        "print(df_scaled)"
      ],
      "execution_count": 26,
      "outputs": [
        {
          "output_type": "stream",
          "text": [
            "         Open      High       Low     Close    Volume\n",
            "0    0.360587  0.316432  0.362288  0.364948  0.044815\n",
            "1    0.379455  0.333333  0.366525  0.360825  0.065071\n",
            "2    0.339623  0.305164  0.343220  0.344330  0.055013\n",
            "3    0.310273  0.273239  0.307203  0.294845  0.201340\n",
            "4    0.285115  0.271362  0.294492  0.317526  0.179828\n",
            "..        ...       ...       ...       ...       ...\n",
            "244  0.863732  0.769014  0.868644  0.859794  0.175436\n",
            "245  0.878407  0.797183  0.887712  0.874227  0.137816\n",
            "246  0.865828  0.763380  0.862288  0.839175  0.110954\n",
            "247  0.851153  0.752113  0.843220  0.816495  0.148245\n",
            "248  0.832285  0.737089  0.819915  0.826804  0.199386\n",
            "\n",
            "[249 rows x 5 columns]\n"
          ],
          "name": "stdout"
        }
      ]
    },
    {
      "cell_type": "code",
      "metadata": {
        "id": "WiI_Om3Xv_X_"
      },
      "source": [
        "\r\n",
        "#import numpy as np\r\n",
        "#import pandas as pd\r\n",
        "#import os"
      ],
      "execution_count": 5,
      "outputs": []
    },
    {
      "cell_type": "code",
      "metadata": {
        "colab": {
          "base_uri": "https://localhost:8080/"
        },
        "id": "vnF8oZHXwBKq",
        "outputId": "5c81ed09-43aa-4a0e-b83d-f944606a6152"
      },
      "source": [
        "#import os\r\n",
        "#from google.colab import drive\r\n",
        "#drive.mount('/content/gdrive')"
      ],
      "execution_count": 6,
      "outputs": [
        {
          "output_type": "stream",
          "text": [
            "Mounted at /content/gdrive\n"
          ],
          "name": "stdout"
        }
      ]
    },
    {
      "cell_type": "code",
      "metadata": {
        "id": "lOvMRfoKwGd-"
      },
      "source": [
        "#base_dir = \"/content/gdrive/MyDrive\"\r\n",
        "#file_nm = \"DF.xlsx\" \r\n",
        "#xlxs_dir = os.path.join(base_dir, file_nm)"
      ],
      "execution_count": 7,
      "outputs": []
    },
    {
      "cell_type": "code",
      "metadata": {
        "colab": {
          "base_uri": "https://localhost:8080/"
        },
        "id": "czDaFOCywNxe",
        "outputId": "441ac4ea-7cdf-4ad5-bfa9-4a151dabc154"
      },
      "source": [
        "#cd /content/gdrive/MyDrive"
      ],
      "execution_count": 9,
      "outputs": [
        {
          "output_type": "stream",
          "text": [
            "/content/gdrive/MyDrive\n"
          ],
          "name": "stdout"
        }
      ]
    },
    {
      "cell_type": "code",
      "metadata": {
        "colab": {
          "base_uri": "https://localhost:8080/",
          "height": 172
        },
        "id": "9aoqCzaIwP6g",
        "outputId": "11b63d43-8bdf-4841-e128-2f7fd11c9704"
      },
      "source": [
        "#xlsx.to_excel('DF.xlsx',index=True)"
      ],
      "execution_count": 10,
      "outputs": [
        {
          "output_type": "error",
          "ename": "NameError",
          "evalue": "ignored",
          "traceback": [
            "\u001b[0;31m---------------------------------------------------------------------------\u001b[0m",
            "\u001b[0;31mNameError\u001b[0m                                 Traceback (most recent call last)",
            "\u001b[0;32m<ipython-input-10-81b87ca4c8dc>\u001b[0m in \u001b[0;36m<module>\u001b[0;34m()\u001b[0m\n\u001b[0;32m----> 1\u001b[0;31m \u001b[0mxlsx\u001b[0m\u001b[0;34m.\u001b[0m\u001b[0mto_excel\u001b[0m\u001b[0;34m(\u001b[0m\u001b[0;34m'DF.xlsx'\u001b[0m\u001b[0;34m,\u001b[0m\u001b[0mindex\u001b[0m\u001b[0;34m=\u001b[0m\u001b[0;32mTrue\u001b[0m\u001b[0;34m)\u001b[0m\u001b[0;34m\u001b[0m\u001b[0;34m\u001b[0m\u001b[0m\n\u001b[0m",
            "\u001b[0;31mNameError\u001b[0m: name 'xlsx' is not defined"
          ]
        }
      ]
    },
    {
      "cell_type": "code",
      "metadata": {
        "id": "30TDdI6MxEKA"
      },
      "source": [
        "TEST_SIZE = 100"
      ],
      "execution_count": 12,
      "outputs": []
    },
    {
      "cell_type": "code",
      "metadata": {
        "id": "b5poZOc2xDFb"
      },
      "source": [
        "train = df_scaled[:-TEST_SIZE]\r\n",
        "test = df_scaled[-TEST_SIZE:]"
      ],
      "execution_count": 13,
      "outputs": []
    },
    {
      "cell_type": "code",
      "metadata": {
        "id": "ON_EbuvqxGtA"
      },
      "source": [
        "def make_dataset(data, label, window_size=10):\r\n",
        "    feature_list = []\r\n",
        "    label_list = []\r\n",
        "    for i in range(len(data) - window_size):\r\n",
        "        feature_list.append(np.array(data.iloc[i:i+window_size]))\r\n",
        "        label_list.append(np.array(label.iloc[i+window_size]))\r\n",
        "    return np.array(feature_list), np.array(label_list)"
      ],
      "execution_count": 14,
      "outputs": []
    },
    {
      "cell_type": "code",
      "metadata": {
        "colab": {
          "base_uri": "https://localhost:8080/"
        },
        "id": "lGLDyaTsxKBV",
        "outputId": "12440a82-093e-4fe9-ef15-712871ae1d8e"
      },
      "source": [
        "feature_cols = ['Open', 'High', 'Low', 'Volume']\r\n",
        "label_cols = ['Close']\r\n",
        "\r\n",
        "train_feature = train[feature_cols]\r\n",
        "train_label = train[label_cols]\r\n",
        "\r\n",
        "# train dataset\r\n",
        "train_feature, train_label = make_dataset(train_feature, train_label, 20)\r\n",
        "\r\n",
        "# train, validation set 생성\r\n",
        "from sklearn.model_selection import train_test_split\r\n",
        "x_train, x_valid, y_train, y_valid = train_test_split(train_feature, train_label, test_size=0.2)\r\n",
        "\r\n",
        "x_train.shape, x_valid.shape\r\n",
        "# ((103, 20, 4), (26, 20, 4))\r\n",
        "\r\n"
      ],
      "execution_count": 16,
      "outputs": [
        {
          "output_type": "execute_result",
          "data": {
            "text/plain": [
              "((103, 20, 4), (26, 20, 4))"
            ]
          },
          "metadata": {
            "tags": []
          },
          "execution_count": 16
        }
      ]
    },
    {
      "cell_type": "code",
      "metadata": {
        "colab": {
          "base_uri": "https://localhost:8080/"
        },
        "id": "m-XbaQfvxpFb",
        "outputId": "02f02770-d3e0-458f-b7e7-2d375febe781"
      },
      "source": [
        "test_feature = test[['Open', 'High', 'Low', 'Volume']]\r\n",
        "test_label = test[label_cols]\r\n",
        "\r\n",
        "test_feature.shape, test_label.shape\r\n",
        "\r\n",
        "# test dataset (실제 예측 해볼 데이터)\r\n",
        "test_feature, test_label = make_dataset(test_feature, test_label, 20)\r\n",
        "test_feature.shape, test_label.shape\r\n",
        "#((80, 20, 4), (80, 1))"
      ],
      "execution_count": 18,
      "outputs": [
        {
          "output_type": "execute_result",
          "data": {
            "text/plain": [
              "((80, 20, 4), (80, 1))"
            ]
          },
          "metadata": {
            "tags": []
          },
          "execution_count": 18
        }
      ]
    },
    {
      "cell_type": "code",
      "metadata": {
        "id": "Y0Yg4P1Zxv1t"
      },
      "source": [
        "from keras.models import Sequential\r\n",
        "from keras.layers import Dense\r\n",
        "from keras.callbacks import EarlyStopping, ModelCheckpoint\r\n",
        "from keras.layers import LSTM\r\n",
        "\r\n",
        "model = Sequential()\r\n",
        "model.add(LSTM(10, \r\n",
        "               input_shape=(train_feature.shape[1], train_feature.shape[2]), \r\n",
        "               activation='relu', \r\n",
        "               return_sequences=False)\r\n",
        "          )\r\n",
        "\r\n",
        "model.add(Dense(1))"
      ],
      "execution_count": 19,
      "outputs": []
    },
    {
      "cell_type": "code",
      "metadata": {
        "colab": {
          "base_uri": "https://localhost:8080/"
        },
        "id": "51WqX0FExxfS",
        "outputId": "aa9c6939-9d1e-4bb9-e83f-6ac7c4935b94"
      },
      "source": [
        "import os\r\n",
        "\r\n",
        "model.compile(loss='mean_squared_error', optimizer='adam')\r\n",
        "early_stop = EarlyStopping(monitor='val_loss', patience=5)\r\n",
        "\r\n",
        "model_path = 'model'\r\n",
        "filename = os.path.join(model_path, 'tmp_checkpoint.h5')\r\n",
        "checkpoint = ModelCheckpoint(filename, monitor='val_loss', verbose=1, save_best_only=True, mode='auto')\r\n",
        "\r\n",
        "history = model.fit(x_train, y_train, \r\n",
        "                                    epochs=200, \r\n",
        "                                    batch_size=16,\r\n",
        "                                    validation_data=(x_valid, y_valid), \r\n",
        "                                    callbacks=[early_stop, checkpoint])"
      ],
      "execution_count": 20,
      "outputs": [
        {
          "output_type": "stream",
          "text": [
            "Epoch 1/200\n",
            "7/7 [==============================] - 1s 65ms/step - loss: 0.0441 - val_loss: 0.0406\n",
            "\n",
            "Epoch 00001: val_loss improved from inf to 0.04058, saving model to model/tmp_checkpoint.h5\n",
            "Epoch 2/200\n",
            "7/7 [==============================] - 0s 10ms/step - loss: 0.0384 - val_loss: 0.0337\n",
            "\n",
            "Epoch 00002: val_loss improved from 0.04058 to 0.03369, saving model to model/tmp_checkpoint.h5\n",
            "Epoch 3/200\n",
            "7/7 [==============================] - 0s 9ms/step - loss: 0.0321 - val_loss: 0.0275\n",
            "\n",
            "Epoch 00003: val_loss improved from 0.03369 to 0.02750, saving model to model/tmp_checkpoint.h5\n",
            "Epoch 4/200\n",
            "7/7 [==============================] - 0s 10ms/step - loss: 0.0248 - val_loss: 0.0218\n",
            "\n",
            "Epoch 00004: val_loss improved from 0.02750 to 0.02178, saving model to model/tmp_checkpoint.h5\n",
            "Epoch 5/200\n",
            "7/7 [==============================] - 0s 9ms/step - loss: 0.0193 - val_loss: 0.0166\n",
            "\n",
            "Epoch 00005: val_loss improved from 0.02178 to 0.01662, saving model to model/tmp_checkpoint.h5\n",
            "Epoch 6/200\n",
            "7/7 [==============================] - 0s 9ms/step - loss: 0.0145 - val_loss: 0.0120\n",
            "\n",
            "Epoch 00006: val_loss improved from 0.01662 to 0.01203, saving model to model/tmp_checkpoint.h5\n",
            "Epoch 7/200\n",
            "7/7 [==============================] - 0s 10ms/step - loss: 0.0086 - val_loss: 0.0083\n",
            "\n",
            "Epoch 00007: val_loss improved from 0.01203 to 0.00826, saving model to model/tmp_checkpoint.h5\n",
            "Epoch 8/200\n",
            "7/7 [==============================] - 0s 10ms/step - loss: 0.0057 - val_loss: 0.0057\n",
            "\n",
            "Epoch 00008: val_loss improved from 0.00826 to 0.00568, saving model to model/tmp_checkpoint.h5\n",
            "Epoch 9/200\n",
            "7/7 [==============================] - 0s 10ms/step - loss: 0.0026 - val_loss: 0.0047\n",
            "\n",
            "Epoch 00009: val_loss improved from 0.00568 to 0.00474, saving model to model/tmp_checkpoint.h5\n",
            "Epoch 10/200\n",
            "7/7 [==============================] - 0s 12ms/step - loss: 0.0024 - val_loss: 0.0048\n",
            "\n",
            "Epoch 00010: val_loss did not improve from 0.00474\n",
            "Epoch 11/200\n",
            "7/7 [==============================] - 0s 10ms/step - loss: 0.0020 - val_loss: 0.0045\n",
            "\n",
            "Epoch 00011: val_loss improved from 0.00474 to 0.00449, saving model to model/tmp_checkpoint.h5\n",
            "Epoch 12/200\n",
            "7/7 [==============================] - 0s 10ms/step - loss: 0.0018 - val_loss: 0.0035\n",
            "\n",
            "Epoch 00012: val_loss improved from 0.00449 to 0.00350, saving model to model/tmp_checkpoint.h5\n",
            "Epoch 13/200\n",
            "7/7 [==============================] - 0s 10ms/step - loss: 0.0013 - val_loss: 0.0026\n",
            "\n",
            "Epoch 00013: val_loss improved from 0.00350 to 0.00265, saving model to model/tmp_checkpoint.h5\n",
            "Epoch 14/200\n",
            "7/7 [==============================] - 0s 10ms/step - loss: 0.0013 - val_loss: 0.0024\n",
            "\n",
            "Epoch 00014: val_loss improved from 0.00265 to 0.00241, saving model to model/tmp_checkpoint.h5\n",
            "Epoch 15/200\n",
            "7/7 [==============================] - 0s 10ms/step - loss: 0.0011 - val_loss: 0.0023\n",
            "\n",
            "Epoch 00015: val_loss improved from 0.00241 to 0.00230, saving model to model/tmp_checkpoint.h5\n",
            "Epoch 16/200\n",
            "7/7 [==============================] - 0s 9ms/step - loss: 0.0011 - val_loss: 0.0021\n",
            "\n",
            "Epoch 00016: val_loss improved from 0.00230 to 0.00207, saving model to model/tmp_checkpoint.h5\n",
            "Epoch 17/200\n",
            "7/7 [==============================] - 0s 9ms/step - loss: 0.0013 - val_loss: 0.0018\n",
            "\n",
            "Epoch 00017: val_loss improved from 0.00207 to 0.00184, saving model to model/tmp_checkpoint.h5\n",
            "Epoch 18/200\n",
            "7/7 [==============================] - 0s 10ms/step - loss: 0.0010 - val_loss: 0.0018\n",
            "\n",
            "Epoch 00018: val_loss improved from 0.00184 to 0.00181, saving model to model/tmp_checkpoint.h5\n",
            "Epoch 19/200\n",
            "7/7 [==============================] - 0s 9ms/step - loss: 0.0010 - val_loss: 0.0018\n",
            "\n",
            "Epoch 00019: val_loss improved from 0.00181 to 0.00177, saving model to model/tmp_checkpoint.h5\n",
            "Epoch 20/200\n",
            "7/7 [==============================] - 0s 9ms/step - loss: 8.0990e-04 - val_loss: 0.0017\n",
            "\n",
            "Epoch 00020: val_loss improved from 0.00177 to 0.00169, saving model to model/tmp_checkpoint.h5\n",
            "Epoch 21/200\n",
            "7/7 [==============================] - 0s 9ms/step - loss: 0.0012 - val_loss: 0.0017\n",
            "\n",
            "Epoch 00021: val_loss did not improve from 0.00169\n",
            "Epoch 22/200\n",
            "7/7 [==============================] - 0s 9ms/step - loss: 0.0010 - val_loss: 0.0016\n",
            "\n",
            "Epoch 00022: val_loss improved from 0.00169 to 0.00164, saving model to model/tmp_checkpoint.h5\n",
            "Epoch 23/200\n",
            "7/7 [==============================] - 0s 9ms/step - loss: 7.9022e-04 - val_loss: 0.0018\n",
            "\n",
            "Epoch 00023: val_loss did not improve from 0.00164\n",
            "Epoch 24/200\n",
            "7/7 [==============================] - 0s 9ms/step - loss: 9.2435e-04 - val_loss: 0.0016\n",
            "\n",
            "Epoch 00024: val_loss improved from 0.00164 to 0.00162, saving model to model/tmp_checkpoint.h5\n",
            "Epoch 25/200\n",
            "7/7 [==============================] - 0s 9ms/step - loss: 8.9432e-04 - val_loss: 0.0017\n",
            "\n",
            "Epoch 00025: val_loss did not improve from 0.00162\n",
            "Epoch 26/200\n",
            "7/7 [==============================] - 0s 26ms/step - loss: 0.0012 - val_loss: 0.0016\n",
            "\n",
            "Epoch 00026: val_loss did not improve from 0.00162\n",
            "Epoch 27/200\n",
            "7/7 [==============================] - 0s 9ms/step - loss: 7.1649e-04 - val_loss: 0.0016\n",
            "\n",
            "Epoch 00027: val_loss improved from 0.00162 to 0.00159, saving model to model/tmp_checkpoint.h5\n",
            "Epoch 28/200\n",
            "7/7 [==============================] - 0s 9ms/step - loss: 0.0010 - val_loss: 0.0015\n",
            "\n",
            "Epoch 00028: val_loss improved from 0.00159 to 0.00150, saving model to model/tmp_checkpoint.h5\n",
            "Epoch 29/200\n",
            "7/7 [==============================] - 0s 10ms/step - loss: 9.4745e-04 - val_loss: 0.0018\n",
            "\n",
            "Epoch 00029: val_loss did not improve from 0.00150\n",
            "Epoch 30/200\n",
            "7/7 [==============================] - 0s 9ms/step - loss: 0.0013 - val_loss: 0.0015\n",
            "\n",
            "Epoch 00030: val_loss did not improve from 0.00150\n",
            "Epoch 31/200\n",
            "7/7 [==============================] - 0s 10ms/step - loss: 8.1286e-04 - val_loss: 0.0015\n",
            "\n",
            "Epoch 00031: val_loss did not improve from 0.00150\n",
            "Epoch 32/200\n",
            "7/7 [==============================] - 0s 8ms/step - loss: 9.2061e-04 - val_loss: 0.0016\n",
            "\n",
            "Epoch 00032: val_loss did not improve from 0.00150\n",
            "Epoch 33/200\n",
            "7/7 [==============================] - 0s 9ms/step - loss: 0.0011 - val_loss: 0.0015\n",
            "\n",
            "Epoch 00033: val_loss did not improve from 0.00150\n"
          ],
          "name": "stdout"
        }
      ]
    },
    {
      "cell_type": "code",
      "metadata": {
        "colab": {
          "base_uri": "https://localhost:8080/"
        },
        "id": "2ly9ThcCx_xo",
        "outputId": "6cf9ff1d-1add-4ca7-882f-cbc014ad2f78"
      },
      "source": [
        "model.load_weights(filename)\r\n",
        "pred = model.predict(test_feature)\r\n",
        "\r\n",
        "pred.shape"
      ],
      "execution_count": 23,
      "outputs": [
        {
          "output_type": "execute_result",
          "data": {
            "text/plain": [
              "(80, 1)"
            ]
          },
          "metadata": {
            "tags": []
          },
          "execution_count": 23
        }
      ]
    },
    {
      "cell_type": "code",
      "metadata": {
        "id": "jw_4RVEWx2Bn"
      },
      "source": [
        "from matplotlib import pyplot as plt"
      ],
      "execution_count": 24,
      "outputs": []
    },
    {
      "cell_type": "code",
      "metadata": {
        "colab": {
          "base_uri": "https://localhost:8080/",
          "height": 537
        },
        "id": "b3NmuQmBx4S7",
        "outputId": "d7978412-0c19-4b5c-cb15-b3f2bd8190e8"
      },
      "source": [
        "plt.figure(figsize=(12, 9))\r\n",
        "plt.plot(test_label, label = 'actual')\r\n",
        "plt.plot(pred, label = 'prediction')\r\n",
        "plt.legend()\r\n",
        "plt.show()"
      ],
      "execution_count": 25,
      "outputs": [
        {
          "output_type": "display_data",
          "data": {
            "image/png": "[encoded data removed]",
            "text/plain": [
              "<Figure size 864x648 with 1 Axes>"
            ]
          },
          "metadata": {
            "tags": [],
            "needs_background": "light"
          }
        }
      ]
    }
  ]
}